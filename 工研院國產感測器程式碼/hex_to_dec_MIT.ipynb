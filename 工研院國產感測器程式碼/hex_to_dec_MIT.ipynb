{
 "cells": [
  {
   "cell_type": "code",
   "execution_count": 16,
   "metadata": {
    "collapsed": true
   },
   "outputs": [],
   "source": [
    "import csv\n",
    "import os\n",
    "import datetime\n",
    "import time"
   ]
  },
  {
   "cell_type": "code",
   "execution_count": 15,
   "metadata": {
    "collapsed": true
   },
   "outputs": [],
   "source": [
    "def Check_status(file_path):\n",
    "    if os.path.exists(file_path):\n",
    "        os.remove(file_path)\n",
    "        print(\"exist\")\n",
    "    return True"
   ]
  },
  {
   "cell_type": "code",
   "execution_count": 28,
   "metadata": {},
   "outputs": [
    {
     "name": "stdout",
     "output_type": "stream",
     "text": [
      "exist\n",
      "4d420000000000070000000000000000000000000000000000000000000000964d42000000000007000000000080030000000000000000000000000000000096\n",
      "index 0\n",
      "4d42000000000007000000000000000000000000000000000000000000000096\n",
      "data_in 4d42000000000007000000000080030000000000000000000000000000000096\n",
      "collect [7]\n",
      "index 0\n",
      "4d42000000000007000000000080030000000000000000000000000000000096\n",
      "data_in \n",
      "collect [7, 7]\n",
      "index -1\n",
      "times 4\n",
      "[7, 15, 7, 10]\n",
      "[7, 15, 7, 10]\n"
     ]
    }
   ],
   "source": [
    "file_name = \"MIT_data_out\"\n",
    "path = \"/Users/heng/Intern/G3_pm2.5_sensor/\" + file_name\n",
    "if Check_status(path) == True:\n",
    "    csvFile = open(\"/Users/heng/Intern/G3_pm2.5_sensor/MIT_data_out\", \"a\", newline = \"\")\n",
    "    out_write = csv.writer(csvFile)\n",
    "    data_in = input()\n",
    "    standard = \"4d42\"\n",
    "    collect = []\n",
    "    while True:\n",
    "        index = data_in.find(standard)\n",
    "        print(\"index\", index)\n",
    "        if index != -1:\n",
    "            str_slice = data_in[index:index + 64]\n",
    "            print(str_slice)\n",
    "            if len(str_slice) == 64:\n",
    "                data_in = data_in.replace(data_in[index:index + 64], \"\")\n",
    "                print(\"data_in\", data_in)\n",
    "                new_list = []\n",
    "                for x in str_slice:\n",
    "                    new_list.append(x)\n",
    "                #fo r x in range(0, len(str_slice), 4):\n",
    "                    # print(new_list[x:x+4])\n",
    "                    # ans = int(new_list[x] + new_list[x + 1] + new_list[x + 2] + new_list[x + 3], 16)\n",
    "                    # print(ans)\n",
    "                single = int(new_list[12] + new_list[13] + new_list[14] + new_list[15], 16)\n",
    "                collect.append(single)\n",
    "                print(\"collect\", collect)\n",
    "            else:\n",
    "                break\n",
    "        else:\n",
    "            break\n",
    "    time.sleep(1)\n",
    "    current = datetime.datetime.now()\n",
    "    for x in collect:\n",
    "        new_line = []    \n",
    "        new_line.append(x)\n",
    "        new_line.append(current.hour)\n",
    "        new_line.append(current.minute)\n",
    "        new_line.append(current.second)\n",
    "        print(new_line)\n",
    "        out_write.writerow(new_line)\n",
    "csvFile.close()\n"
   ]
  },
  {
   "cell_type": "code",
   "execution_count": null,
   "metadata": {
    "collapsed": true
   },
   "outputs": [],
   "source": []
  }
 ],
 "metadata": {
  "kernelspec": {
   "display_name": "Python 3",
   "language": "python",
   "name": "python3"
  },
  "language_info": {
   "codemirror_mode": {
    "name": "ipython",
    "version": 3
   },
   "file_extension": ".py",
   "mimetype": "text/x-python",
   "name": "python",
   "nbconvert_exporter": "python",
   "pygments_lexer": "ipython3",
   "version": "3.6.3"
  }
 },
 "nbformat": 4,
 "nbformat_minor": 2
}
