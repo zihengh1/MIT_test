{
 "cells": [
  {
   "cell_type": "code",
   "execution_count": 40,
   "metadata": {
    "collapsed": true
   },
   "outputs": [],
   "source": [
    "import numpy as np\n",
    "import pandas as pd\n",
    "import csv\n",
    "import copy\n",
    "import os\n",
    "import matplotlib.pyplot as plt"
   ]
  },
  {
   "cell_type": "code",
   "execution_count": 42,
   "metadata": {
    "collapsed": true
   },
   "outputs": [],
   "source": [
    "def open_file(p_1, p_2, p_3, p_4, p_5):\n",
    "    init_data = []\n",
    "    total = {}\n",
    "    path = [p_1, p_2, p_3, p_4, p_5]\n",
    "    for p in path:\n",
    "        with open(p) as csvDataFile:\n",
    "            csvReader = csv.reader(csvDataFile)\n",
    "            target = ['0', '0', '0', '0', '0', '0']\n",
    "            for row in csvReader:\n",
    "                if (target[1] + target[2]) != (row[1] + row[2]):\n",
    "                    r_int = int(row[1] + row[2])\n",
    "                    t_int = int(target[1] + target[2])\n",
    "                    if (r_int - t_int) != 1:\n",
    "                        target = row\n",
    "                        init_data.append(row)\n",
    "            total[p] = init_data\n",
    "            init_data = []\n",
    "    return total"
   ]
  },
  {
   "cell_type": "code",
   "execution_count": 44,
   "metadata": {
    "collapsed": true
   },
   "outputs": [],
   "source": [
    "def deal_with(data_in):\n",
    "    collect = {}\n",
    "    for x in data_in:\n",
    "        h = int(x[1]) + 8\n",
    "        if h >= 24:\n",
    "            h = h - 24\n",
    "        time = str(h) + \":\" + str(x[2]) + \":\" + str(x[3])\n",
    "        # print(time)\n",
    "        collect[time] = int(x[0])\n",
    "    return collect"
   ]
  },
  {
   "cell_type": "code",
   "execution_count": 45,
   "metadata": {
    "collapsed": true
   },
   "outputs": [],
   "source": [
    "def create_time_list():\n",
    "    time = []\n",
    "    h = [0, 1, 2, 3, 4, 5, 6, 7, 8, 9, 10, 11, 12]\n",
    "    m = []\n",
    "    for x in range(0, 60, 5):\n",
    "        m.append(x)\n",
    "    # print(h)\n",
    "    # print(m)\n",
    "    a = []\n",
    "    for x in h:\n",
    "        for y in m:\n",
    "            a.append(x)\n",
    "            a.append(y)\n",
    "            time.append(a)\n",
    "            a = []\n",
    "    # print(time)\n",
    "    return time"
   ]
  },
  {
   "cell_type": "code",
   "execution_count": 47,
   "metadata": {
    "collapsed": true
   },
   "outputs": [],
   "source": [
    "def find_end(time_end):\n",
    "    time = {}\n",
    "    num = 1\n",
    "    for x in time_end:\n",
    "        x = x.split(\":\")\n",
    "        hour = int(x[0])\n",
    "        minute = int(x[1])\n",
    "        time[num] = [hour, minute]\n",
    "        num  = num + 1\n",
    "    h_s = 24\n",
    "    m_s = 60\n",
    "    for x in time.items():\n",
    "        if h_s > x[1][0]:\n",
    "            h_s = x[1][0]\n",
    "            m_s = x[1][1]\n",
    "        elif h_s == x[1][0]:\n",
    "            if m_s > x[1][1]:\n",
    "                h_s = x[1][0]\n",
    "                m_s = x[1][1]\n",
    "    # print(h_s, m_s)\n",
    "    return str(h_s) + \":\" + str(m_s)"
   ]
  },
  {
   "cell_type": "code",
   "execution_count": 46,
   "metadata": {
    "collapsed": true
   },
   "outputs": [],
   "source": [
    "def unite(dict_in):\n",
    "    correct_dict = {}\n",
    "    temp = copy.copy(time)\n",
    "    for x in temp[:]:\n",
    "        standard_hour = x[0]\n",
    "        standard_minute = x[1]\n",
    "        time_key = str(standard_hour) + \":\" + str(standard_minute)\n",
    "        for key in dict_in.copy().keys():\n",
    "            key2 = key.split(\":\")\n",
    "            if int(key2[0]) == standard_hour:\n",
    "                if int(key2[1]) <= standard_minute:\n",
    "                    # print(\"in\", time_key, dict_in[key])\n",
    "                    correct_dict[time_key] = dict_in[key]\n",
    "                    del dict_in[key]\n",
    "            elif int(key2[0]) < standard_hour:\n",
    "                # print(\"in\", time_key, dict_in[key])\n",
    "                correct_dict[time_key] = dict_in[key]\n",
    "                del dict_in[key]\n",
    "    # print(correct_dict)\n",
    "    return correct_dict"
   ]
  },
  {
   "cell_type": "code",
   "execution_count": 48,
   "metadata": {
    "collapsed": true
   },
   "outputs": [],
   "source": [
    "def low_high_bound(i_38, i_42, i_43, i_47, i_G5):\n",
    "    first = [i_38[0], i_42[0], i_43[0], i_47[0], i_G5[0]]\n",
    "    last = [i_38[-1], i_42[-1], i_43[-1], i_47[-1], i_G5[-1]]\n",
    "    # print(first)\n",
    "    # print(last)\n",
    "    start = find_start(first)\n",
    "    end = find_end(last)\n",
    "    return (start, end)"
   ]
  },
  {
   "cell_type": "code",
   "execution_count": 50,
   "metadata": {
    "collapsed": true
   },
   "outputs": [],
   "source": [
    "def check(start, end, id_dict):\n",
    "    ans = {}\n",
    "    pos = 0\n",
    "    list_in = copy.copy(list(id_dict))\n",
    "    for i in list_in[:]:\n",
    "        pos = pos + 1\n",
    "        if i == start:\n",
    "            delete_pos = pos-1\n",
    "            for i in range(0, delete_pos):\n",
    "                del id_dict[list_in[i]]\n",
    "        if i == end:\n",
    "            delete_pos = pos+1\n",
    "            for i in range(delete_pos-1, len(list_in)):\n",
    "                del id_dict[list_in[i]]\n",
    "    # print(id_dict)\n",
    "    return id_dict"
   ]
  },
  {
   "cell_type": "code",
   "execution_count": 51,
   "metadata": {
    "collapsed": true
   },
   "outputs": [],
   "source": [
    "def reshape(data, title):\n",
    "    df = pd.DataFrame({title:np.array(list(data.values()))}, index = np.array(list(data.keys())))\n",
    "    df.index = pd.to_datetime(df.index, format='%H:%M')\n",
    "    df = df.resample('5min').mean()\n",
    "    # print(df)\n",
    "    return df"
   ]
  },
  {
   "cell_type": "code",
   "execution_count": 52,
   "metadata": {
    "collapsed": true
   },
   "outputs": [],
   "source": [
    "def caculate_CV(df):\n",
    "    total_std = []\n",
    "    average = []\n",
    "    for x in range(0, 135):\n",
    "        row = np.array(df.iloc[x])\n",
    "        std = row.std()\n",
    "        avg = row.mean()\n",
    "        total_std.append(std)\n",
    "        average.append(avg)\n",
    "    total_std = np.array(total_std)\n",
    "    average = np.array(average)\n",
    "    CV = total_std / average\n",
    "    df_CV = pd.DataFrame({\"CV\": CV}, index = average)\n",
    "    df_CV = caculate_CV(df)\n",
    "    plt.scatter(average, CV)\n",
    "    plt.grid(True)\n",
    "    plt.show()"
   ]
  },
  {
   "cell_type": "code",
   "execution_count": 49,
   "metadata": {
    "collapsed": true
   },
   "outputs": [],
   "source": [
    "def find_start(time_start):\n",
    "    time = {}\n",
    "    num = 1\n",
    "    for x in time_start:\n",
    "        x = x.split(\":\")\n",
    "        # print(x)\n",
    "        hour = int(x[0])\n",
    "        minute = int(x[1])\n",
    "        # print(hour, minute)\n",
    "        time[num] = [hour, minute]\n",
    "        num  = num + 1\n",
    "    # print(time)\n",
    "    h_s = 0\n",
    "    m_s = 0\n",
    "    for x in time.items():\n",
    "        if h_s < x[1][0]:\n",
    "            h_s = x[1][0]\n",
    "            m_s = x[1][1]\n",
    "        elif h_s == x[1][0]:\n",
    "            if m_s < x[1][1]:\n",
    "                h_s = x[1][0]\n",
    "                m_s = x[1][1]\n",
    "    # print(h_s, m_s)\n",
    "    return str(h_s) + \":\" + str(m_s)"
   ]
  },
  {
   "cell_type": "code",
   "execution_count": 41,
   "metadata": {
    "collapsed": true
   },
   "outputs": [],
   "source": [
    "path1 = '/Users/heng/Desktop/3:26 23~3:27 16/38_data_out'\n",
    "path2 = '/Users/heng/Desktop/3:26 23~3:27 16/47_data_out'\n",
    "path3 = '/Users/heng/Desktop/3:26 0~3:27 16/G5_data_out'\n",
    "total_data = open_file(path1, path2, path3, path4, path5)\n",
    "# print(total_data)\n",
    "# print(total_data[path1])\n",
    "# print(total_data[path2])\n",
    "# print(total_data[path3])\n",
    "# print(total_data[path4])\n",
    "# print(total_data[path5])"
   ]
  },
  {
   "cell_type": "code",
   "execution_count": 43,
   "metadata": {
    "collapsed": true,
    "scrolled": true
   },
   "outputs": [],
   "source": [
    "id_38 = deal_with(total_data[path1])\n",
    "id_42 = deal_with(total_data[path2])\n",
    "id_43 = deal_with(total_data[path3])\n",
    "id_47 = deal_with(total_data[path4])\n",
    "id_G5 = deal_with(total_data[path5])\n",
    "\n",
    "time = create_time_list()\n",
    "\n",
    "id_38_done = unite(id_38)\n",
    "id_42_done = unite(id_42)\n",
    "id_43_done = unite(id_43)\n",
    "id_47_done = unite(id_47)\n",
    "id_G5_done = unite(id_G5)\n",
    "\n",
    "(s, e) = low_high_bound(list(id_38_done), list(id_42_done), list(id_43_done), list(id_47_done), list(id_G5_done))\n",
    "# print(s, e)\n",
    "\n",
    "id_38_done = check(s, e, id_38_done)\n",
    "id_42_done = check(s, e, id_42_done)\n",
    "id_43_done = check(s, e, id_43_done)\n",
    "id_47_done = check(s, e, id_47_done)\n",
    "id_G5_done = check(s, e, id_G5_done)\n",
    "\n",
    "# print(len(id_38_done))\n",
    "# print(len(id_42_done))\n",
    "# print(len(id_43_done))\n",
    "# print(len(id_47_done))\n",
    "# print(len(id_G5_done))\n",
    "\n",
    "df1 = reshape(id_38_done, \"38_d\")\n",
    "df2 = reshape(id_42_done, \"42_d\")\n",
    "df3 = reshape(id_43_done, \"43_d\")\n",
    "df4 = reshape(id_47_done, \"47_d\")\n",
    "df5 = reshape(id_G5_done, \"G5\")"
   ]
  },
  {
   "cell_type": "code",
   "execution_count": 53,
   "metadata": {
    "collapsed": true
   },
   "outputs": [],
   "source": [
    "df = pd.concat([df1, df2, df3, df4, df5], axis = 1) \n",
    "# df"
   ]
  },
  {
   "cell_type": "code",
   "execution_count": null,
   "metadata": {},
   "outputs": [
    {
     "data": {
      "image/png": "[encoded data removed]",
      "text/plain": [
       "<matplotlib.figure.Figure at 0x110d8d9b0>"
      ]
     },
     "metadata": {},
     "output_type": "display_data"
    }
   ],
   "source": [
    "df = df.astype(float)\n",
    "df.plot()\n",
    "plt.title('3/29 0 ~ 3/29 12')\n",
    "plt.grid(True)\n",
    "plt.show()"
   ]
  },
  {
   "cell_type": "code",
   "execution_count": null,
   "metadata": {
    "collapsed": true
   },
   "outputs": [],
   "source": [
    "caculate_CV(df)"
   ]
  },
  {
   "cell_type": "code",
   "execution_count": null,
   "metadata": {
    "collapsed": true
   },
   "outputs": [],
   "source": []
  },
  {
   "cell_type": "code",
   "execution_count": null,
   "metadata": {
    "collapsed": true
   },
   "outputs": [],
   "source": []
  },
  {
   "cell_type": "code",
   "execution_count": null,
   "metadata": {
    "collapsed": true
   },
   "outputs": [],
   "source": []
  }
 ],
 "metadata": {
  "kernelspec": {
   "display_name": "Python 3",
   "language": "python",
   "name": "python3"
  },
  "language_info": {
   "codemirror_mode": {
    "name": "ipython",
    "version": 3
   },
   "file_extension": ".py",
   "mimetype": "text/x-python",
   "name": "python",
   "nbconvert_exporter": "python",
   "pygments_lexer": "ipython3",
   "version": "3.6.3"
  }
 },
 "nbformat": 4,
 "nbformat_minor": 2
}
