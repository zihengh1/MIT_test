{
 "cells": [
  {
   "cell_type": "code",
   "execution_count": 1,
   "metadata": {
    "collapsed": true
   },
   "outputs": [],
   "source": [
    "import numpy as np\n",
    "import pandas as pd\n",
    "import csv\n",
    "import copy\n",
    "import os\n",
    "import matplotlib.pyplot as plt\n",
    "import itertools"
   ]
  },
  {
   "cell_type": "code",
   "execution_count": 12,
   "metadata": {
    "collapsed": true
   },
   "outputs": [],
   "source": [
    "def open_file(p_1, p_2, p_3, p_4):\n",
    "    init_data = []\n",
    "    total = {}\n",
    "    path = [p_1, p_2, p_3, p_4]\n",
    "    # print(path)\n",
    "    for p in path:\n",
    "        with open(p) as csvDataFile:\n",
    "            csvReader = csv.reader(csvDataFile)\n",
    "            target = ['0', '0', '0', '0', '0', '0']\n",
    "            for row in csvReader:\n",
    "                if (target[1] + target[2]) != (row[1] + row[2]):\n",
    "                    r_int = int(row[1] + row[2])\n",
    "                    t_int = int(target[1] + target[2])\n",
    "                    if (r_int - t_int) != 1:\n",
    "                        target = row\n",
    "                        init_data.append(row)\n",
    "            total[p] = init_data\n",
    "            init_data = []\n",
    "    return total"
   ]
  },
  {
   "cell_type": "code",
   "execution_count": 3,
   "metadata": {
    "collapsed": true
   },
   "outputs": [],
   "source": [
    "def deal_with(data_in):\n",
    "    collect = {}\n",
    "    for x in data_in:\n",
    "        h = int(x[1])\n",
    "        d = int(x[4])\n",
    "        m = int(x[2])\n",
    "        if h >= 0 and h <= 15:\n",
    "            h = h + 8\n",
    "        elif h >= 16 and h <= 23:\n",
    "            h = h + 8 - 24\n",
    "            d = d + 1\n",
    "            if d > 31:\n",
    "                d = 1\n",
    "        time = str(d) + \":\" + str(h) + \":\" + str(m)\n",
    "        # print(time)\n",
    "        collect[time] = int(x[0])\n",
    "    # print(collect)\n",
    "    return collect"
   ]
  },
  {
   "cell_type": "code",
   "execution_count": 46,
   "metadata": {
    "collapsed": true
   },
   "outputs": [],
   "source": [
    "def create_time_list():\n",
    "    time = []\n",
    "    d = [10, 11, 12, 13, 14, 15]\n",
    "    h = []\n",
    "    for x in range(0, 24):\n",
    "        h.append(x)\n",
    "    m = []\n",
    "    for x in range(0, 60, 5):\n",
    "        m.append(x)\n",
    "    # print(h)\n",
    "    # print(m)\n",
    "    a = []\n",
    "    for k in d:\n",
    "        for x in h:\n",
    "            for y in m:\n",
    "                a.append(k)\n",
    "                a.append(x)\n",
    "                a.append(y)\n",
    "                time.append(a)\n",
    "                a = []\n",
    "    # print(time)\n",
    "    return time"
   ]
  },
  {
   "cell_type": "code",
   "execution_count": 59,
   "metadata": {
    "collapsed": true
   },
   "outputs": [],
   "source": [
    "def unite(dict_in):\n",
    "    correct_dict = {}\n",
    "    temp = copy.copy(time)\n",
    "    pointer_time = 0\n",
    "    for pointer_time in range(pointer_time, len(temp)):\n",
    "        standard = [temp[pointer_time][0], temp[pointer_time][1], temp[pointer_time][2]]\n",
    "        if temp[pointer_time][0] == 1:\n",
    "            time_in = \"6:\" + str(temp[pointer_time][0]) + \":\" + str(temp[pointer_time][1]) + \":\" + str(temp[pointer_time][2])\n",
    "        else:\n",
    "            time_in = \"5:\" + str(temp[pointer_time][0]) + \":\" + str(temp[pointer_time][1]) + \":\" + str(temp[pointer_time][2])\n",
    "        for key in dict_in.copy().keys():\n",
    "            key2 = key.split(\":\")\n",
    "            k = [int(key2[0]), int(key2[1]), int(key2[2])]\n",
    "            if k[0] == standard[0]:\n",
    "                if k[1] == standard[1]:\n",
    "                    if k[2] <= standard[2]:\n",
    "                        correct_dict[time_in] = dict_in[key]\n",
    "                        del dict_in[key]\n",
    "                    else:\n",
    "                        break\n",
    "                elif k[1] < standard[1]:\n",
    "                    correct_dict[time_in] = dict_in[key]\n",
    "                    del dict_in[key]\n",
    "                else:\n",
    "                    break\n",
    "            elif k[0] < standard[0]:\n",
    "                correct_dict[time_in] = dict_in[key]\n",
    "                del dict_in[key]\n",
    "            elif k[0] == 31 and standard[0] == 1:\n",
    "                correct_dict[time_in] = dict_in[key]\n",
    "                del dict_in[key]\n",
    "            else:\n",
    "                break\n",
    "            # print(temp[pointer_time])\n",
    "            # print(dict_in)\n",
    "        pointer_time = pointer_time + 1\n",
    "    # print(correct_dict)\n",
    "    return correct_dict"
   ]
  },
  {
   "cell_type": "code",
   "execution_count": 60,
   "metadata": {
    "collapsed": true
   },
   "outputs": [],
   "source": [
    "def low_high_bound(p_1, p_2, p_3, p_4):\n",
    "    first = [p_1[0], p_2[0], p_3[0], p_4[0]]\n",
    "    last = [p_1[-1], p_2[-1], p_3[-1], p_4[-1]]\n",
    "    # print(first)\n",
    "    # print(last)\n",
    "    start = find_start(first)\n",
    "    end = find_end(last)\n",
    "    return (start, end)"
   ]
  },
  {
   "cell_type": "code",
   "execution_count": 61,
   "metadata": {
    "collapsed": true
   },
   "outputs": [],
   "source": [
    "def find_start(time_start):\n",
    "    time = {}\n",
    "    num = 1\n",
    "    for x in time_start:\n",
    "        x = x.split(\":\")\n",
    "        month = int(x[0])\n",
    "        day = int(x[1])\n",
    "        hour = int(x[2])\n",
    "        minute = int(x[3])\n",
    "        # print(dat, hour, minute)\n",
    "        time[num] = [month, day, hour, minute]\n",
    "        num  = num + 1\n",
    "    # print(time)\n",
    "    m_s = 0\n",
    "    h_s = 0\n",
    "    for x in time.items():\n",
    "        if h_s <= x[1][2]:\n",
    "            if m_s <= x[1][3]:\n",
    "                h_s = x[1][2]\n",
    "                m_s = x[1][3]\n",
    "    return str(time[1][0]) + \":\" + str(time[1][1]) + \":\" + str(h_s) + \":\" + str(m_s)"
   ]
  },
  {
   "cell_type": "code",
   "execution_count": 62,
   "metadata": {
    "collapsed": true
   },
   "outputs": [],
   "source": [
    "def find_end(time_end):\n",
    "    time = {}\n",
    "    num = 1\n",
    "    for x in time_end:\n",
    "        x = x.split(\":\")\n",
    "        month = int(x[0])\n",
    "        day = int(x[1])\n",
    "        hour = int(x[2])\n",
    "        minute = int(x[3])\n",
    "        time[num] = [month, day, hour, minute]\n",
    "        num  = num + 1\n",
    "    m_s = 60\n",
    "    h_s = 24\n",
    "    for x in time.items():\n",
    "        if h_s >= x[1][2]:\n",
    "            if m_s >= x[1][3]:\n",
    "                h_s = x[1][2]\n",
    "                m_s = x[1][3]\n",
    "    return str(time[1][0]) + \":\" + str(time[1][1]) + \":\" + str(h_s) + \":\" + str(m_s)"
   ]
  },
  {
   "cell_type": "code",
   "execution_count": 63,
   "metadata": {
    "collapsed": true
   },
   "outputs": [],
   "source": [
    "def check(start, end, id_dict):\n",
    "    ans = {}\n",
    "    pos = 0\n",
    "    list_in = copy.copy(list(id_dict))\n",
    "    for i in list_in[:]:\n",
    "        pos = pos + 1\n",
    "        if i == start:\n",
    "            delete_pos = pos-1\n",
    "            for i in range(0, delete_pos):\n",
    "                del id_dict[list_in[i]]\n",
    "        if i == end:\n",
    "            delete_pos = pos+1\n",
    "            for i in range(delete_pos-1, len(list_in)):\n",
    "                del id_dict[list_in[i]]\n",
    "    # print(id_dict)\n",
    "    return id_dict"
   ]
  },
  {
   "cell_type": "code",
   "execution_count": 64,
   "metadata": {
    "collapsed": true
   },
   "outputs": [],
   "source": [
    "def reshape(data, title):\n",
    "    df = pd.DataFrame({title:np.array(list(data.values()))}, index = np.array(list(data.keys())))\n",
    "    df.index = pd.to_datetime(df.index, format = '%m:%d:%H:%M')\n",
    "    df = df.resample('5min').mean()\n",
    "    # print(df)\n",
    "    return df"
   ]
  },
  {
   "cell_type": "code",
   "execution_count": 98,
   "metadata": {
    "collapsed": true
   },
   "outputs": [],
   "source": [
    "def scatterplot_matrix(data, names, **kwargs):\n",
    "    \"\"\"Plots a scatterplot matrix of subplots.  Each row of \"data\" is plotted\n",
    "    against other rows, resulting in a nrows by nrows grid of subplots with the\n",
    "    diagonal subplots labeled with \"names\".  Additional keyword arguments are\n",
    "    passed on to matplotlib's \"plot\" command. Returns the matplotlib figure\n",
    "    object containg the subplot grid.\"\"\"\n",
    "    numvars, numdata = data.shape\n",
    "    fig, axes = plt.subplots(nrows=numvars, ncols=numvars, figsize=(12,12))\n",
    "    fig.subplots_adjust(hspace=0.0001, wspace=0.0001)\n",
    "\n",
    "    for ax in axes.flat:\n",
    "        # Hide all ticks and labels\n",
    "        ax.xaxis.set_visible(False)\n",
    "        ax.yaxis.set_visible(False)\n",
    "\n",
    "        # Set up ticks only on one side for the \"edge\" subplots...\n",
    "        if ax.is_first_col():\n",
    "            ax.yaxis.set_ticks_position('left')\n",
    "        if ax.is_last_col():\n",
    "            ax.yaxis.set_ticks_position('right')\n",
    "        if ax.is_first_row():\n",
    "            ax.xaxis.set_ticks_position('top')\n",
    "        if ax.is_last_row():\n",
    "            ax.xaxis.set_ticks_position('bottom')\n",
    "\n",
    "    # Plot the data.\n",
    "    for i, j in zip(*np.triu_indices_from(axes, k=1)):\n",
    "        for x, y in [(i,j), (j,i)]:\n",
    "            axes[x,y].plot(data[x], data[y], **kwargs)\n",
    "\n",
    "    # Label the diagonal subplots...\n",
    "    for i, label in enumerate(names):\n",
    "        axes[i,i].annotate(label, (0.2, 0.2), xycoords='axes fraction',\n",
    "                ha='center', va='center')\n",
    "\n",
    "    # Turn on the proper x or y axes ticks.\n",
    "    for i, j in zip(range(numvars), itertools.cycle((-1, 0))):\n",
    "        axes[j,i].xaxis.set_visible(True)\n",
    "        axes[i,j].yaxis.set_visible(True)\n",
    "\n",
    "    return fig"
   ]
  },
  {
   "cell_type": "code",
   "execution_count": 99,
   "metadata": {
    "collapsed": true
   },
   "outputs": [],
   "source": [
    "path1 = '/Users/heng/Intern/工研院國產感測器實驗資料/5:10 ~ 5:15/45_data_out'\n",
    "path2 = '/Users/heng/Intern/工研院國產感測器實驗資料/5:10 ~ 5:15/46_data_out'\n",
    "path3 = '/Users/heng/Intern/工研院國產感測器實驗資料/5:10 ~ 5:15/97_data_out'\n",
    "path4 = '/Users/heng/Intern/工研院國產感測器實驗資料/5:10 ~ 5:15/99_data_out'\n",
    "\n",
    "total_data = open_file(path1, path2, path3, path4)\n",
    "# print(total_data)"
   ]
  },
  {
   "cell_type": "code",
   "execution_count": 100,
   "metadata": {
    "collapsed": true
   },
   "outputs": [],
   "source": [
    "id_45 = deal_with(total_data[path1])\n",
    "id_46 = deal_with(total_data[path2])\n",
    "id_97 = deal_with(total_data[path3])\n",
    "id_99 = deal_with(total_data[path4])"
   ]
  },
  {
   "cell_type": "code",
   "execution_count": 101,
   "metadata": {
    "collapsed": true
   },
   "outputs": [],
   "source": [
    "time = create_time_list()"
   ]
  },
  {
   "cell_type": "code",
   "execution_count": 102,
   "metadata": {
    "collapsed": true
   },
   "outputs": [],
   "source": [
    "id_45_done = unite(id_45)\n",
    "id_46_done = unite(id_46)\n",
    "id_97_done = unite(id_97)\n",
    "id_99_done = unite(id_99)"
   ]
  },
  {
   "cell_type": "code",
   "execution_count": 103,
   "metadata": {},
   "outputs": [
    {
     "name": "stdout",
     "output_type": "stream",
     "text": [
      "5:10:14:25 5:15:15:40\n"
     ]
    }
   ],
   "source": [
    "(s, e) = low_high_bound(list(id_45_done), list(id_46_done), list(id_97_done), list(id_99_done))\n",
    "print(s, e)"
   ]
  },
  {
   "cell_type": "code",
   "execution_count": 104,
   "metadata": {
    "collapsed": true
   },
   "outputs": [],
   "source": [
    "id_45_done = check(s, e, id_45_done)\n",
    "id_46_done = check(s, e, id_46_done)\n",
    "id_97_done = check(s, e, id_97_done)\n",
    "id_99_done = check(s, e, id_99_done)"
   ]
  },
  {
   "cell_type": "code",
   "execution_count": 105,
   "metadata": {
    "collapsed": true
   },
   "outputs": [],
   "source": [
    "df1 = reshape(id_45_done, \"45_d\")\n",
    "df2 = reshape(id_46_done, \"46_d\")\n",
    "df3 = reshape(id_97_done, \"97_d\")\n",
    "df4 = reshape(id_99_done, \"99_d\")"
   ]
  },
  {
   "cell_type": "code",
   "execution_count": 106,
   "metadata": {},
   "outputs": [
    {
     "data": {
      "text/html": [
       "<div>\n",
       "<style>\n",
       "    .dataframe thead tr:only-child th {\n",
       "        text-align: right;\n",
       "    }\n",
       "\n",
       "    .dataframe thead th {\n",
       "        text-align: left;\n",
       "    }\n",
       "\n",
       "    .dataframe tbody tr th {\n",
       "        vertical-align: top;\n",
       "    }\n",
       "</style>\n",
       "<table border=\"1\" class=\"dataframe\">\n",
       "  <thead>\n",
       "    <tr style=\"text-align: right;\">\n",
       "      <th></th>\n",
       "      <th>45_d</th>\n",
       "      <th>46_d</th>\n",
       "      <th>97_d</th>\n",
       "      <th>99_d</th>\n",
       "    </tr>\n",
       "  </thead>\n",
       "  <tbody>\n",
       "    <tr>\n",
       "      <th>1900-05-10 14:25:00</th>\n",
       "      <td>10.0</td>\n",
       "      <td>3.0</td>\n",
       "      <td>13.0</td>\n",
       "      <td>34.0</td>\n",
       "    </tr>\n",
       "    <tr>\n",
       "      <th>1900-05-10 14:30:00</th>\n",
       "      <td>10.0</td>\n",
       "      <td>3.0</td>\n",
       "      <td>12.0</td>\n",
       "      <td>34.0</td>\n",
       "    </tr>\n",
       "    <tr>\n",
       "      <th>1900-05-10 14:35:00</th>\n",
       "      <td>10.0</td>\n",
       "      <td>3.0</td>\n",
       "      <td>12.0</td>\n",
       "      <td>34.0</td>\n",
       "    </tr>\n",
       "    <tr>\n",
       "      <th>1900-05-10 14:40:00</th>\n",
       "      <td>10.0</td>\n",
       "      <td>3.0</td>\n",
       "      <td>12.0</td>\n",
       "      <td>34.0</td>\n",
       "    </tr>\n",
       "    <tr>\n",
       "      <th>1900-05-10 14:45:00</th>\n",
       "      <td>10.0</td>\n",
       "      <td>3.0</td>\n",
       "      <td>12.0</td>\n",
       "      <td>34.0</td>\n",
       "    </tr>\n",
       "    <tr>\n",
       "      <th>1900-05-10 14:50:00</th>\n",
       "      <td>10.0</td>\n",
       "      <td>3.0</td>\n",
       "      <td>12.0</td>\n",
       "      <td>34.0</td>\n",
       "    </tr>\n",
       "    <tr>\n",
       "      <th>1900-05-10 14:55:00</th>\n",
       "      <td>10.0</td>\n",
       "      <td>3.0</td>\n",
       "      <td>13.0</td>\n",
       "      <td>34.0</td>\n",
       "    </tr>\n",
       "    <tr>\n",
       "      <th>1900-05-10 15:00:00</th>\n",
       "      <td>10.0</td>\n",
       "      <td>3.0</td>\n",
       "      <td>13.0</td>\n",
       "      <td>34.0</td>\n",
       "    </tr>\n",
       "    <tr>\n",
       "      <th>1900-05-10 15:05:00</th>\n",
       "      <td>10.0</td>\n",
       "      <td>3.0</td>\n",
       "      <td>12.0</td>\n",
       "      <td>34.0</td>\n",
       "    </tr>\n",
       "    <tr>\n",
       "      <th>1900-05-10 15:10:00</th>\n",
       "      <td>10.0</td>\n",
       "      <td>3.0</td>\n",
       "      <td>12.0</td>\n",
       "      <td>34.0</td>\n",
       "    </tr>\n",
       "    <tr>\n",
       "      <th>1900-05-10 15:15:00</th>\n",
       "      <td>10.0</td>\n",
       "      <td>3.0</td>\n",
       "      <td>12.0</td>\n",
       "      <td>34.0</td>\n",
       "    </tr>\n",
       "    <tr>\n",
       "      <th>1900-05-10 15:20:00</th>\n",
       "      <td>10.0</td>\n",
       "      <td>3.0</td>\n",
       "      <td>12.0</td>\n",
       "      <td>34.0</td>\n",
       "    </tr>\n",
       "    <tr>\n",
       "      <th>1900-05-10 15:25:00</th>\n",
       "      <td>10.0</td>\n",
       "      <td>3.0</td>\n",
       "      <td>12.0</td>\n",
       "      <td>33.0</td>\n",
       "    </tr>\n",
       "    <tr>\n",
       "      <th>1900-05-10 15:30:00</th>\n",
       "      <td>10.0</td>\n",
       "      <td>3.0</td>\n",
       "      <td>12.0</td>\n",
       "      <td>33.0</td>\n",
       "    </tr>\n",
       "    <tr>\n",
       "      <th>1900-05-10 15:35:00</th>\n",
       "      <td>10.0</td>\n",
       "      <td>3.0</td>\n",
       "      <td>12.0</td>\n",
       "      <td>34.0</td>\n",
       "    </tr>\n",
       "    <tr>\n",
       "      <th>1900-05-10 15:40:00</th>\n",
       "      <td>10.0</td>\n",
       "      <td>3.0</td>\n",
       "      <td>13.0</td>\n",
       "      <td>33.0</td>\n",
       "    </tr>\n",
       "    <tr>\n",
       "      <th>1900-05-10 15:45:00</th>\n",
       "      <td>10.0</td>\n",
       "      <td>3.0</td>\n",
       "      <td>12.0</td>\n",
       "      <td>33.0</td>\n",
       "    </tr>\n",
       "    <tr>\n",
       "      <th>1900-05-10 15:50:00</th>\n",
       "      <td>10.0</td>\n",
       "      <td>3.0</td>\n",
       "      <td>12.0</td>\n",
       "      <td>33.0</td>\n",
       "    </tr>\n",
       "    <tr>\n",
       "      <th>1900-05-10 15:55:00</th>\n",
       "      <td>10.0</td>\n",
       "      <td>3.0</td>\n",
       "      <td>13.0</td>\n",
       "      <td>33.0</td>\n",
       "    </tr>\n",
       "    <tr>\n",
       "      <th>1900-05-10 16:00:00</th>\n",
       "      <td>10.0</td>\n",
       "      <td>NaN</td>\n",
       "      <td>12.0</td>\n",
       "      <td>34.0</td>\n",
       "    </tr>\n",
       "    <tr>\n",
       "      <th>1900-05-10 16:05:00</th>\n",
       "      <td>10.0</td>\n",
       "      <td>3.0</td>\n",
       "      <td>12.0</td>\n",
       "      <td>34.0</td>\n",
       "    </tr>\n",
       "    <tr>\n",
       "      <th>1900-05-10 16:10:00</th>\n",
       "      <td>10.0</td>\n",
       "      <td>3.0</td>\n",
       "      <td>NaN</td>\n",
       "      <td>34.0</td>\n",
       "    </tr>\n",
       "    <tr>\n",
       "      <th>1900-05-10 16:15:00</th>\n",
       "      <td>10.0</td>\n",
       "      <td>3.0</td>\n",
       "      <td>13.0</td>\n",
       "      <td>34.0</td>\n",
       "    </tr>\n",
       "    <tr>\n",
       "      <th>1900-05-10 16:20:00</th>\n",
       "      <td>10.0</td>\n",
       "      <td>3.0</td>\n",
       "      <td>12.0</td>\n",
       "      <td>34.0</td>\n",
       "    </tr>\n",
       "    <tr>\n",
       "      <th>1900-05-10 16:25:00</th>\n",
       "      <td>10.0</td>\n",
       "      <td>3.0</td>\n",
       "      <td>12.0</td>\n",
       "      <td>34.0</td>\n",
       "    </tr>\n",
       "    <tr>\n",
       "      <th>1900-05-10 16:30:00</th>\n",
       "      <td>10.0</td>\n",
       "      <td>3.0</td>\n",
       "      <td>12.0</td>\n",
       "      <td>34.0</td>\n",
       "    </tr>\n",
       "    <tr>\n",
       "      <th>1900-05-10 16:35:00</th>\n",
       "      <td>10.0</td>\n",
       "      <td>3.0</td>\n",
       "      <td>13.0</td>\n",
       "      <td>33.0</td>\n",
       "    </tr>\n",
       "    <tr>\n",
       "      <th>1900-05-10 16:40:00</th>\n",
       "      <td>10.0</td>\n",
       "      <td>3.0</td>\n",
       "      <td>13.0</td>\n",
       "      <td>33.0</td>\n",
       "    </tr>\n",
       "    <tr>\n",
       "      <th>1900-05-10 16:45:00</th>\n",
       "      <td>10.0</td>\n",
       "      <td>3.0</td>\n",
       "      <td>13.0</td>\n",
       "      <td>33.0</td>\n",
       "    </tr>\n",
       "    <tr>\n",
       "      <th>1900-05-10 16:50:00</th>\n",
       "      <td>10.0</td>\n",
       "      <td>3.0</td>\n",
       "      <td>13.0</td>\n",
       "      <td>NaN</td>\n",
       "    </tr>\n",
       "    <tr>\n",
       "      <th>...</th>\n",
       "      <td>...</td>\n",
       "      <td>...</td>\n",
       "      <td>...</td>\n",
       "      <td>...</td>\n",
       "    </tr>\n",
       "    <tr>\n",
       "      <th>1900-05-15 13:15:00</th>\n",
       "      <td>31.0</td>\n",
       "      <td>23.0</td>\n",
       "      <td>36.0</td>\n",
       "      <td>59.0</td>\n",
       "    </tr>\n",
       "    <tr>\n",
       "      <th>1900-05-15 13:20:00</th>\n",
       "      <td>32.0</td>\n",
       "      <td>23.0</td>\n",
       "      <td>36.0</td>\n",
       "      <td>60.0</td>\n",
       "    </tr>\n",
       "    <tr>\n",
       "      <th>1900-05-15 13:25:00</th>\n",
       "      <td>32.0</td>\n",
       "      <td>24.0</td>\n",
       "      <td>36.0</td>\n",
       "      <td>69.0</td>\n",
       "    </tr>\n",
       "    <tr>\n",
       "      <th>1900-05-15 13:30:00</th>\n",
       "      <td>33.0</td>\n",
       "      <td>24.0</td>\n",
       "      <td>36.0</td>\n",
       "      <td>60.0</td>\n",
       "    </tr>\n",
       "    <tr>\n",
       "      <th>1900-05-15 13:35:00</th>\n",
       "      <td>33.0</td>\n",
       "      <td>24.0</td>\n",
       "      <td>37.0</td>\n",
       "      <td>61.0</td>\n",
       "    </tr>\n",
       "    <tr>\n",
       "      <th>1900-05-15 13:40:00</th>\n",
       "      <td>33.0</td>\n",
       "      <td>24.0</td>\n",
       "      <td>37.0</td>\n",
       "      <td>62.0</td>\n",
       "    </tr>\n",
       "    <tr>\n",
       "      <th>1900-05-15 13:45:00</th>\n",
       "      <td>34.0</td>\n",
       "      <td>25.0</td>\n",
       "      <td>37.0</td>\n",
       "      <td>63.0</td>\n",
       "    </tr>\n",
       "    <tr>\n",
       "      <th>1900-05-15 13:50:00</th>\n",
       "      <td>34.0</td>\n",
       "      <td>24.0</td>\n",
       "      <td>NaN</td>\n",
       "      <td>61.0</td>\n",
       "    </tr>\n",
       "    <tr>\n",
       "      <th>1900-05-15 13:55:00</th>\n",
       "      <td>33.0</td>\n",
       "      <td>24.0</td>\n",
       "      <td>38.0</td>\n",
       "      <td>61.0</td>\n",
       "    </tr>\n",
       "    <tr>\n",
       "      <th>1900-05-15 14:00:00</th>\n",
       "      <td>34.0</td>\n",
       "      <td>25.0</td>\n",
       "      <td>39.0</td>\n",
       "      <td>60.0</td>\n",
       "    </tr>\n",
       "    <tr>\n",
       "      <th>1900-05-15 14:05:00</th>\n",
       "      <td>33.0</td>\n",
       "      <td>25.0</td>\n",
       "      <td>NaN</td>\n",
       "      <td>59.0</td>\n",
       "    </tr>\n",
       "    <tr>\n",
       "      <th>1900-05-15 14:10:00</th>\n",
       "      <td>34.0</td>\n",
       "      <td>24.0</td>\n",
       "      <td>38.0</td>\n",
       "      <td>59.0</td>\n",
       "    </tr>\n",
       "    <tr>\n",
       "      <th>1900-05-15 14:15:00</th>\n",
       "      <td>32.0</td>\n",
       "      <td>23.0</td>\n",
       "      <td>39.0</td>\n",
       "      <td>57.0</td>\n",
       "    </tr>\n",
       "    <tr>\n",
       "      <th>1900-05-15 14:20:00</th>\n",
       "      <td>30.0</td>\n",
       "      <td>21.0</td>\n",
       "      <td>39.0</td>\n",
       "      <td>54.0</td>\n",
       "    </tr>\n",
       "    <tr>\n",
       "      <th>1900-05-15 14:25:00</th>\n",
       "      <td>30.0</td>\n",
       "      <td>20.0</td>\n",
       "      <td>39.0</td>\n",
       "      <td>50.0</td>\n",
       "    </tr>\n",
       "    <tr>\n",
       "      <th>1900-05-15 14:30:00</th>\n",
       "      <td>27.0</td>\n",
       "      <td>18.0</td>\n",
       "      <td>37.0</td>\n",
       "      <td>49.0</td>\n",
       "    </tr>\n",
       "    <tr>\n",
       "      <th>1900-05-15 14:35:00</th>\n",
       "      <td>25.0</td>\n",
       "      <td>16.0</td>\n",
       "      <td>35.0</td>\n",
       "      <td>48.0</td>\n",
       "    </tr>\n",
       "    <tr>\n",
       "      <th>1900-05-15 14:40:00</th>\n",
       "      <td>24.0</td>\n",
       "      <td>16.0</td>\n",
       "      <td>34.0</td>\n",
       "      <td>NaN</td>\n",
       "    </tr>\n",
       "    <tr>\n",
       "      <th>1900-05-15 14:45:00</th>\n",
       "      <td>24.0</td>\n",
       "      <td>17.0</td>\n",
       "      <td>31.0</td>\n",
       "      <td>48.0</td>\n",
       "    </tr>\n",
       "    <tr>\n",
       "      <th>1900-05-15 14:50:00</th>\n",
       "      <td>24.0</td>\n",
       "      <td>16.0</td>\n",
       "      <td>30.0</td>\n",
       "      <td>NaN</td>\n",
       "    </tr>\n",
       "    <tr>\n",
       "      <th>1900-05-15 14:55:00</th>\n",
       "      <td>NaN</td>\n",
       "      <td>15.0</td>\n",
       "      <td>30.0</td>\n",
       "      <td>48.0</td>\n",
       "    </tr>\n",
       "    <tr>\n",
       "      <th>1900-05-15 15:00:00</th>\n",
       "      <td>23.0</td>\n",
       "      <td>15.0</td>\n",
       "      <td>29.0</td>\n",
       "      <td>48.0</td>\n",
       "    </tr>\n",
       "    <tr>\n",
       "      <th>1900-05-15 15:05:00</th>\n",
       "      <td>24.0</td>\n",
       "      <td>15.0</td>\n",
       "      <td>29.0</td>\n",
       "      <td>48.0</td>\n",
       "    </tr>\n",
       "    <tr>\n",
       "      <th>1900-05-15 15:10:00</th>\n",
       "      <td>24.0</td>\n",
       "      <td>15.0</td>\n",
       "      <td>28.0</td>\n",
       "      <td>47.0</td>\n",
       "    </tr>\n",
       "    <tr>\n",
       "      <th>1900-05-15 15:15:00</th>\n",
       "      <td>23.0</td>\n",
       "      <td>15.0</td>\n",
       "      <td>28.0</td>\n",
       "      <td>46.0</td>\n",
       "    </tr>\n",
       "    <tr>\n",
       "      <th>1900-05-15 15:20:00</th>\n",
       "      <td>23.0</td>\n",
       "      <td>15.0</td>\n",
       "      <td>28.0</td>\n",
       "      <td>45.0</td>\n",
       "    </tr>\n",
       "    <tr>\n",
       "      <th>1900-05-15 15:25:00</th>\n",
       "      <td>NaN</td>\n",
       "      <td>15.0</td>\n",
       "      <td>28.0</td>\n",
       "      <td>46.0</td>\n",
       "    </tr>\n",
       "    <tr>\n",
       "      <th>1900-05-15 15:30:00</th>\n",
       "      <td>24.0</td>\n",
       "      <td>17.0</td>\n",
       "      <td>28.0</td>\n",
       "      <td>47.0</td>\n",
       "    </tr>\n",
       "    <tr>\n",
       "      <th>1900-05-15 15:35:00</th>\n",
       "      <td>25.0</td>\n",
       "      <td>19.0</td>\n",
       "      <td>NaN</td>\n",
       "      <td>51.0</td>\n",
       "    </tr>\n",
       "    <tr>\n",
       "      <th>1900-05-15 15:40:00</th>\n",
       "      <td>28.0</td>\n",
       "      <td>19.0</td>\n",
       "      <td>28.0</td>\n",
       "      <td>52.0</td>\n",
       "    </tr>\n",
       "  </tbody>\n",
       "</table>\n",
       "<p>1456 rows × 4 columns</p>\n",
       "</div>"
      ],
      "text/plain": [
       "                     45_d  46_d  97_d  99_d\n",
       "1900-05-10 14:25:00  10.0   3.0  13.0  34.0\n",
       "1900-05-10 14:30:00  10.0   3.0  12.0  34.0\n",
       "1900-05-10 14:35:00  10.0   3.0  12.0  34.0\n",
       "1900-05-10 14:40:00  10.0   3.0  12.0  34.0\n",
       "1900-05-10 14:45:00  10.0   3.0  12.0  34.0\n",
       "1900-05-10 14:50:00  10.0   3.0  12.0  34.0\n",
       "1900-05-10 14:55:00  10.0   3.0  13.0  34.0\n",
       "1900-05-10 15:00:00  10.0   3.0  13.0  34.0\n",
       "1900-05-10 15:05:00  10.0   3.0  12.0  34.0\n",
       "1900-05-10 15:10:00  10.0   3.0  12.0  34.0\n",
       "1900-05-10 15:15:00  10.0   3.0  12.0  34.0\n",
       "1900-05-10 15:20:00  10.0   3.0  12.0  34.0\n",
       "1900-05-10 15:25:00  10.0   3.0  12.0  33.0\n",
       "1900-05-10 15:30:00  10.0   3.0  12.0  33.0\n",
       "1900-05-10 15:35:00  10.0   3.0  12.0  34.0\n",
       "1900-05-10 15:40:00  10.0   3.0  13.0  33.0\n",
       "1900-05-10 15:45:00  10.0   3.0  12.0  33.0\n",
       "1900-05-10 15:50:00  10.0   3.0  12.0  33.0\n",
       "1900-05-10 15:55:00  10.0   3.0  13.0  33.0\n",
       "1900-05-10 16:00:00  10.0   NaN  12.0  34.0\n",
       "1900-05-10 16:05:00  10.0   3.0  12.0  34.0\n",
       "1900-05-10 16:10:00  10.0   3.0   NaN  34.0\n",
       "1900-05-10 16:15:00  10.0   3.0  13.0  34.0\n",
       "1900-05-10 16:20:00  10.0   3.0  12.0  34.0\n",
       "1900-05-10 16:25:00  10.0   3.0  12.0  34.0\n",
       "1900-05-10 16:30:00  10.0   3.0  12.0  34.0\n",
       "1900-05-10 16:35:00  10.0   3.0  13.0  33.0\n",
       "1900-05-10 16:40:00  10.0   3.0  13.0  33.0\n",
       "1900-05-10 16:45:00  10.0   3.0  13.0  33.0\n",
       "1900-05-10 16:50:00  10.0   3.0  13.0   NaN\n",
       "...                   ...   ...   ...   ...\n",
       "1900-05-15 13:15:00  31.0  23.0  36.0  59.0\n",
       "1900-05-15 13:20:00  32.0  23.0  36.0  60.0\n",
       "1900-05-15 13:25:00  32.0  24.0  36.0  69.0\n",
       "1900-05-15 13:30:00  33.0  24.0  36.0  60.0\n",
       "1900-05-15 13:35:00  33.0  24.0  37.0  61.0\n",
       "1900-05-15 13:40:00  33.0  24.0  37.0  62.0\n",
       "1900-05-15 13:45:00  34.0  25.0  37.0  63.0\n",
       "1900-05-15 13:50:00  34.0  24.0   NaN  61.0\n",
       "1900-05-15 13:55:00  33.0  24.0  38.0  61.0\n",
       "1900-05-15 14:00:00  34.0  25.0  39.0  60.0\n",
       "1900-05-15 14:05:00  33.0  25.0   NaN  59.0\n",
       "1900-05-15 14:10:00  34.0  24.0  38.0  59.0\n",
       "1900-05-15 14:15:00  32.0  23.0  39.0  57.0\n",
       "1900-05-15 14:20:00  30.0  21.0  39.0  54.0\n",
       "1900-05-15 14:25:00  30.0  20.0  39.0  50.0\n",
       "1900-05-15 14:30:00  27.0  18.0  37.0  49.0\n",
       "1900-05-15 14:35:00  25.0  16.0  35.0  48.0\n",
       "1900-05-15 14:40:00  24.0  16.0  34.0   NaN\n",
       "1900-05-15 14:45:00  24.0  17.0  31.0  48.0\n",
       "1900-05-15 14:50:00  24.0  16.0  30.0   NaN\n",
       "1900-05-15 14:55:00   NaN  15.0  30.0  48.0\n",
       "1900-05-15 15:00:00  23.0  15.0  29.0  48.0\n",
       "1900-05-15 15:05:00  24.0  15.0  29.0  48.0\n",
       "1900-05-15 15:10:00  24.0  15.0  28.0  47.0\n",
       "1900-05-15 15:15:00  23.0  15.0  28.0  46.0\n",
       "1900-05-15 15:20:00  23.0  15.0  28.0  45.0\n",
       "1900-05-15 15:25:00   NaN  15.0  28.0  46.0\n",
       "1900-05-15 15:30:00  24.0  17.0  28.0  47.0\n",
       "1900-05-15 15:35:00  25.0  19.0   NaN  51.0\n",
       "1900-05-15 15:40:00  28.0  19.0  28.0  52.0\n",
       "\n",
       "[1456 rows x 4 columns]"
      ]
     },
     "execution_count": 106,
     "metadata": {},
     "output_type": "execute_result"
    }
   ],
   "source": [
    "df = pd.concat([df1, df2, df3, df4], axis = 1) \n",
    "df"
   ]
  },
  {
   "cell_type": "code",
   "execution_count": 107,
   "metadata": {},
   "outputs": [
    {
     "data": {
      "image/png": "[encoded data removed]",
      "text/plain": [
       "<matplotlib.figure.Figure at 0x10d21d7b8>"
      ]
     },
     "metadata": {},
     "output_type": "display_data"
    }
   ],
   "source": [
    "df = df.astype(float)\n",
    "df.plot()\n",
    "plt.title('5/10 14:25 ~ 5/15 15:40')\n",
    "plt.grid(True)\n",
    "plt.xlabel(\"time\") \n",
    "plt.ylabel(\"pm2.5\")\n",
    "plt.savefig('all_id')\n",
    "plt.show()"
   ]
  },
  {
   "cell_type": "code",
   "execution_count": 108,
   "metadata": {},
   "outputs": [
    {
     "data": {
      "image/png": "[encoded data removed]",
      "text/plain": [
       "<matplotlib.figure.Figure at 0x11306f470>"
      ]
     },
     "metadata": {},
     "output_type": "display_data"
    }
   ],
   "source": [
    "SUM_data = []\n",
    "SUM_data.append(list(df[\"45_d\"]))\n",
    "SUM_data.append(list(df[\"46_d\"]))\n",
    "SUM_data.append(list(df[\"97_d\"]))\n",
    "SUM_data.append(list(df[\"99_d\"]))\n",
    "SUM_data = np.array(SUM_data) \n",
    "fig = scatterplot_matrix(SUM_data, ['45_d', '46_d', '97_d', '99_d'], linestyle='none', marker='x', color='blue', mfc='none')\n",
    "fig.suptitle('Simple Scatterplot Matrix')\n",
    "plt.savefig('scatter_plot_matrix')\n",
    "plt.show()"
   ]
  },
  {
   "cell_type": "code",
   "execution_count": 111,
   "metadata": {
    "collapsed": true
   },
   "outputs": [],
   "source": [
    "total_std = []\n",
    "average = []\n",
    "for x in range(0, 409):\n",
    "    row = np.array(df.iloc[x])\n",
    "    std = row.std()\n",
    "    avg = row.mean()\n",
    "    total_std.append(std)\n",
    "    average.append(avg)\n",
    "total_std = np.array(total_std)\n",
    "average = np.array(average)\n",
    "t = pd.Series(total_std)\n",
    "a = pd.Series(average)\n",
    "CV = total_std / average"
   ]
  },
  {
   "cell_type": "code",
   "execution_count": 112,
   "metadata": {},
   "outputs": [
    {
     "data": {
      "text/html": [
       "<div>\n",
       "<style>\n",
       "    .dataframe thead tr:only-child th {\n",
       "        text-align: right;\n",
       "    }\n",
       "\n",
       "    .dataframe thead th {\n",
       "        text-align: left;\n",
       "    }\n",
       "\n",
       "    .dataframe tbody tr th {\n",
       "        vertical-align: top;\n",
       "    }\n",
       "</style>\n",
       "<table border=\"1\" class=\"dataframe\">\n",
       "  <thead>\n",
       "    <tr style=\"text-align: right;\">\n",
       "      <th></th>\n",
       "      <th>45_d</th>\n",
       "      <th>46_d</th>\n",
       "      <th>97_d</th>\n",
       "      <th>99_d</th>\n",
       "    </tr>\n",
       "  </thead>\n",
       "  <tbody>\n",
       "    <tr>\n",
       "      <th>count</th>\n",
       "      <td>1405.000000</td>\n",
       "      <td>1406.000000</td>\n",
       "      <td>1406.000000</td>\n",
       "      <td>1405.000000</td>\n",
       "    </tr>\n",
       "    <tr>\n",
       "      <th>mean</th>\n",
       "      <td>20.485409</td>\n",
       "      <td>12.651494</td>\n",
       "      <td>25.009246</td>\n",
       "      <td>108.520285</td>\n",
       "    </tr>\n",
       "    <tr>\n",
       "      <th>std</th>\n",
       "      <td>7.069705</td>\n",
       "      <td>6.368586</td>\n",
       "      <td>8.221441</td>\n",
       "      <td>139.504763</td>\n",
       "    </tr>\n",
       "    <tr>\n",
       "      <th>min</th>\n",
       "      <td>10.000000</td>\n",
       "      <td>3.000000</td>\n",
       "      <td>12.000000</td>\n",
       "      <td>30.000000</td>\n",
       "    </tr>\n",
       "    <tr>\n",
       "      <th>25%</th>\n",
       "      <td>13.000000</td>\n",
       "      <td>6.000000</td>\n",
       "      <td>16.000000</td>\n",
       "      <td>38.000000</td>\n",
       "    </tr>\n",
       "    <tr>\n",
       "      <th>50%</th>\n",
       "      <td>22.000000</td>\n",
       "      <td>14.000000</td>\n",
       "      <td>27.000000</td>\n",
       "      <td>52.000000</td>\n",
       "    </tr>\n",
       "    <tr>\n",
       "      <th>75%</th>\n",
       "      <td>25.000000</td>\n",
       "      <td>17.000000</td>\n",
       "      <td>31.000000</td>\n",
       "      <td>71.000000</td>\n",
       "    </tr>\n",
       "    <tr>\n",
       "      <th>max</th>\n",
       "      <td>44.000000</td>\n",
       "      <td>36.000000</td>\n",
       "      <td>52.000000</td>\n",
       "      <td>785.000000</td>\n",
       "    </tr>\n",
       "  </tbody>\n",
       "</table>\n",
       "</div>"
      ],
      "text/plain": [
       "              45_d         46_d         97_d         99_d\n",
       "count  1405.000000  1406.000000  1406.000000  1405.000000\n",
       "mean     20.485409    12.651494    25.009246   108.520285\n",
       "std       7.069705     6.368586     8.221441   139.504763\n",
       "min      10.000000     3.000000    12.000000    30.000000\n",
       "25%      13.000000     6.000000    16.000000    38.000000\n",
       "50%      22.000000    14.000000    27.000000    52.000000\n",
       "75%      25.000000    17.000000    31.000000    71.000000\n",
       "max      44.000000    36.000000    52.000000   785.000000"
      ]
     },
     "execution_count": 112,
     "metadata": {},
     "output_type": "execute_result"
    }
   ],
   "source": [
    "df.describe()"
   ]
  },
  {
   "cell_type": "code",
   "execution_count": 113,
   "metadata": {},
   "outputs": [
    {
     "data": {
      "image/png": "[encoded data removed]",
      "text/plain": [
       "<matplotlib.figure.Figure at 0x113899588>"
      ]
     },
     "metadata": {},
     "output_type": "display_data"
    }
   ],
   "source": [
    "df_CV = pd.DataFrame({\"CV\": CV}, index = average)\n",
    "plt.scatter(average, CV, marker = \"o\", s = 40)\n",
    "plt.grid(True)\n",
    "plt.title(\"CV and pm2.5\")\n",
    "plt.xlabel(\"pm2.5\") \n",
    "plt.ylabel(\"CV\")\n",
    "plt.savefig('all_CV')\n",
    "plt.show()"
   ]
  },
  {
   "cell_type": "code",
   "execution_count": 83,
   "metadata": {},
   "outputs": [
    {
     "data": {
      "text/plain": [
       "'\\ndata_45 = df[\"45_d\"]\\nG5 = df[\"G5_d\"]\\ndf_total = pd.DataFrame({\"45_d\":data_37, \"G5_d\":G5})\\ncorr_coef = df_total.corr()\\nr = np.array(corr_coef)\\nprint(\"r:\", r[0][1])\\nplt.scatter(G5, data_37, marker = \"o\", s = 50)\\nplt.grid(True)\\nplt.title(\"G5 and 45_d\")\\nplt.xlabel(\"G5\") \\nplt.ylabel(\"45_d\")\\n# plt.savefig(\\'G5 and 37_d\\')\\nplt.show()\\n'"
      ]
     },
     "execution_count": 83,
     "metadata": {},
     "output_type": "execute_result"
    }
   ],
   "source": [
    "'''\n",
    "data_45 = df[\"45_d\"]\n",
    "G5 = df[\"G5_d\"]\n",
    "df_total = pd.DataFrame({\"45_d\":data_45, \"G5_d\":G5})\n",
    "corr_coef = df_total.corr()\n",
    "r = np.array(corr_coef)\n",
    "print(\"r:\", r[0][1])\n",
    "plt.scatter(G5, data_45, marker = \"o\", s = 50)\n",
    "plt.grid(True)\n",
    "plt.title(\"G5 and 45_d\")\n",
    "plt.xlabel(\"G5\") \n",
    "plt.ylabel(\"45_d\")\n",
    "# plt.savefig('G5 and 45_d')\n",
    "plt.show()\n",
    "'''"
   ]
  },
  {
   "cell_type": "code",
   "execution_count": 84,
   "metadata": {},
   "outputs": [
    {
     "data": {
      "text/plain": [
       "'\\ndata_45 = df[\"45_d\"]\\nG5 = df[\"G5_d\"]\\ndf_total = pd.DataFrame({\"45_d\":data_45, \"G5_d\":G5})\\ncorr_coef = df_total.corr()\\nr = np.array(corr_coef)\\nprint(\"r:\", r[0][1])\\nplt.scatter(G5, data_45, marker = \"o\", s = 50)\\nplt.grid(True)\\nplt.title(\"G5 and 45_d\")\\nplt.xlabel(\"G5\") \\nplt.ylabel(\"45_d\")\\n# plt.savefig(\\'G5 and 45_d\\')\\nplt.show()\\n'"
      ]
     },
     "execution_count": 84,
     "metadata": {},
     "output_type": "execute_result"
    }
   ],
   "source": [
    "'''\n",
    "data_45 = df[\"45_d\"]\n",
    "G5 = df[\"G5_d\"]\n",
    "df_total = pd.DataFrame({\"45_d\":data_45, \"G5_d\":G5})\n",
    "corr_coef = df_total.corr()\n",
    "r = np.array(corr_coef)\n",
    "print(\"r:\", r[0][1])\n",
    "plt.scatter(G5, data_45, marker = \"o\", s = 50)\n",
    "plt.grid(True)\n",
    "plt.title(\"G5 and 45_d\")\n",
    "plt.xlabel(\"G5\") \n",
    "plt.ylabel(\"45_d\")\n",
    "# plt.savefig('G5 and 45_d')\n",
    "plt.show()\n",
    "'''"
   ]
  },
  {
   "cell_type": "code",
   "execution_count": 86,
   "metadata": {},
   "outputs": [
    {
     "data": {
      "text/plain": [
       "'\\ndata_46 = df[\"46_d\"]\\nG5 = df[\"G5_d\"]\\ndf_total = pd.DataFrame({\"46_d\":data_46, \"G5_d\":G5})\\ncorr_coef = df_total.corr()\\nr = np.array(corr_coef)\\nprint(\"r:\", r[0][1])\\nplt.scatter(G5, data_46, marker = \"o\", s = 50)\\nplt.grid(True)\\nplt.title(\"G5 and 46_d\")\\nplt.xlabel(\"G5\") \\nplt.ylabel(\"46_d\")\\n# plt.savefig(\\'G5 and 46_d\\')\\nplt.show()\\n'"
      ]
     },
     "execution_count": 86,
     "metadata": {},
     "output_type": "execute_result"
    }
   ],
   "source": [
    "'''\n",
    "data_46 = df[\"46_d\"]\n",
    "G5 = df[\"G5_d\"]\n",
    "df_total = pd.DataFrame({\"46_d\":data_46, \"G5_d\":G5})\n",
    "corr_coef = df_total.corr()\n",
    "r = np.array(corr_coef)\n",
    "print(\"r:\", r[0][1])\n",
    "plt.scatter(G5, data_46, marker = \"o\", s = 50)\n",
    "plt.grid(True)\n",
    "plt.title(\"G5 and 46_d\")\n",
    "plt.xlabel(\"G5\") \n",
    "plt.ylabel(\"46_d\")\n",
    "# plt.savefig('G5 and 46_d')\n",
    "plt.show()\n",
    "'''"
   ]
  },
  {
   "cell_type": "code",
   "execution_count": 87,
   "metadata": {},
   "outputs": [
    {
     "data": {
      "text/plain": [
       "'\\ndata_69 = df[\"69_d\"]\\nG5 = df[\"G5_d\"]\\ndf_total = pd.DataFrame({\"69_d\":data_69, \"G5_d\":G5})\\ncorr_coef = df_total.corr()\\nr = np.array(corr_coef)\\nprint(\"r:\", r[0][1])\\nplt.scatter(G5, data_69, marker = \"o\", s = 50)\\nplt.grid(True)\\nplt.title(\"G5 and 69_d\")\\nplt.xlabel(\"G5\") \\nplt.ylabel(\"69_d\")\\n# plt.savefig(\\'G5 and 69_d\\')\\nplt.show()\\n'"
      ]
     },
     "execution_count": 87,
     "metadata": {},
     "output_type": "execute_result"
    }
   ],
   "source": [
    "'''\n",
    "data_69 = df[\"69_d\"]\n",
    "G5 = df[\"G5_d\"]\n",
    "df_total = pd.DataFrame({\"69_d\":data_69, \"G5_d\":G5})\n",
    "corr_coef = df_total.corr()\n",
    "r = np.array(corr_coef)\n",
    "print(\"r:\", r[0][1])\n",
    "plt.scatter(G5, data_69, marker = \"o\", s = 50)\n",
    "plt.grid(True)\n",
    "plt.title(\"G5 and 69_d\")\n",
    "plt.xlabel(\"G5\") \n",
    "plt.ylabel(\"69_d\")\n",
    "# plt.savefig('G5 and 69_d')\n",
    "plt.show()\n",
    "'''"
   ]
  },
  {
   "cell_type": "code",
   "execution_count": 88,
   "metadata": {},
   "outputs": [
    {
     "data": {
      "text/plain": [
       "'\\ndf_MIT = pd.concat([df1, df2, df3], axis = 1) \\ndf_MIT = df_MIT.interpolate()\\n# print(df_MIT)\\ndf_G5 = df5[\"G5_d\"].interpolate()\\n# print(df_G5)\\nG5_list = list(df_G5)\\naverage = []\\nfor x in range(0, 409):\\n    row = np.array(df_MIT.iloc[x])\\n    avg = row.mean()\\n    # avg = avg.astype(np.int)\\n    average.append(avg)\\n'"
      ]
     },
     "execution_count": 88,
     "metadata": {},
     "output_type": "execute_result"
    }
   ],
   "source": [
    "'''\n",
    "df_MIT = pd.concat([df1, df2, df3], axis = 1) \n",
    "df_MIT = df_MIT.interpolate()\n",
    "# print(df_MIT)\n",
    "df_G5 = df5[\"G5_d\"].interpolate()\n",
    "# print(df_G5)\n",
    "G5_list = list(df_G5)\n",
    "average = []\n",
    "for x in range(0, 409):\n",
    "    row = np.array(df_MIT.iloc[x])\n",
    "    avg = row.mean()\n",
    "    # avg = avg.astype(np.int)\n",
    "    average.append(avg)\n",
    "'''"
   ]
  },
  {
   "cell_type": "code",
   "execution_count": 55,
   "metadata": {
    "collapsed": true
   },
   "outputs": [],
   "source": [
    "# print(G5_list)\n",
    "# print(average)"
   ]
  },
  {
   "cell_type": "code",
   "execution_count": 56,
   "metadata": {},
   "outputs": [
    {
     "name": "stdout",
     "output_type": "stream",
     "text": [
      "[[ 2.09784787]]\n",
      "[ 6.5817803]\n"
     ]
    }
   ],
   "source": [
    "from sklearn.linear_model import LinearRegression\n",
    "\n",
    "MIT_data = np.array(average)\n",
    "G5_data = np.array(G5_list)\n",
    "\n",
    "lm = LinearRegression()\n",
    "lm.fit(np.reshape(MIT_data, (len(MIT_data), 1)), np.reshape(G5_data, (len(G5_data), 1)))\n",
    "\n",
    "print(lm.coef_)\n",
    "print(lm.intercept_)"
   ]
  },
  {
   "cell_type": "code",
   "execution_count": 101,
   "metadata": {},
   "outputs": [
    {
     "name": "stdout",
     "output_type": "stream",
     "text": [
      "[[ 19.16886752]\n",
      " [ 21.26671539]\n",
      " [ 23.36456326]\n",
      " [ 22.31563932]]\n"
     ]
    }
   ],
   "source": [
    "to_be_predicted = np.array([6, 7, 8, 7.5])\n",
    "predicted_pmdata = lm.predict(np.reshape(to_be_predicted, (len(to_be_predicted), 1)))\n",
    "print(predicted_pmdata)"
   ]
  },
  {
   "cell_type": "code",
   "execution_count": 102,
   "metadata": {},
   "outputs": [
    {
     "data": {
      "image/png": "[encoded data removed]",
      "text/plain": [
       "<matplotlib.figure.Figure at 0x1a1faf0dd8>"
      ]
     },
     "metadata": {},
     "output_type": "display_data"
    }
   ],
   "source": [
    "plt.scatter(MIT_data, G5_data, color='grey', marker = \"x\")\n",
    "plt.plot(MIT_data, lm.predict(np.reshape(MIT_data, (len(MIT_data), 1))), color='green', linewidth=2)\n",
    "# plt.plot(to_be_predicted, predicted_pmdata, color = 'blue', marker = '*', markersize = 10)\n",
    "plt.xticks((np.arange(5, 18, step=2)))\n",
    "plt.yticks((np.arange(10, 50, step=5)))\n",
    "plt.xlabel(\"MIT_average\") \n",
    "plt.ylabel(\"G5\") \n",
    "plt.title(\"Linear regression\")\n",
    "# plt.savefig('linear regression_2')\n",
    "plt.show()"
   ]
  },
  {
   "cell_type": "code",
   "execution_count": 127,
   "metadata": {
    "collapsed": true
   },
   "outputs": [],
   "source": [
    "from scipy import stats\n",
    "slope, intercept, r_value, p_value, std_err = stats.linregress(MIT_data, G5_data)"
   ]
  },
  {
   "cell_type": "code",
   "execution_count": 130,
   "metadata": {},
   "outputs": [
    {
     "name": "stdout",
     "output_type": "stream",
     "text": [
      "2.09784786938\n",
      "6.58178030283\n",
      "0.92468448744\n",
      "0.855041401313\n",
      "8.78725095591e-173\n",
      "0.0428159126294\n"
     ]
    }
   ],
   "source": [
    "print(slope)\n",
    "print(intercept)\n",
    "print(r_value)\n",
    "R_square = r_value**2\n",
    "print(R_square)\n",
    "print(p_value)\n",
    "print(std_err)"
   ]
  },
  {
   "cell_type": "code",
   "execution_count": null,
   "metadata": {
    "collapsed": true
   },
   "outputs": [],
   "source": []
  }
 ],
 "metadata": {
  "kernelspec": {
   "display_name": "Python 3",
   "language": "python",
   "name": "python3"
  },
  "language_info": {
   "codemirror_mode": {
    "name": "ipython",
    "version": 3
   },
   "file_extension": ".py",
   "mimetype": "text/x-python",
   "name": "python",
   "nbconvert_exporter": "python",
   "pygments_lexer": "ipython3",
   "version": "3.6.3"
  }
 },
 "nbformat": 4,
 "nbformat_minor": 2
}
