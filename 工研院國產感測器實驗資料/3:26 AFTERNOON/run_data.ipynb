{
 "cells": [
  {
   "cell_type": "code",
   "execution_count": 52,
   "metadata": {
    "collapsed": true
   },
   "outputs": [],
   "source": [
    "import numpy as np\n",
    "import pandas as pd\n",
    "import csv\n",
    "import datetime\n",
    "import time\n",
    "import os\n",
    "import matplotlib.pyplot as plt"
   ]
  },
  {
   "cell_type": "code",
   "execution_count": 53,
   "metadata": {
    "collapsed": true
   },
   "outputs": [],
   "source": [
    "def deal_with(data_in):\n",
    "    collect = {}\n",
    "    for x in data_in:\n",
    "        h = int(x[1]) + 8\n",
    "        if h >= 24:\n",
    "            h = h - 24\n",
    "        time = str(h) + \":\" + str(x[2]) + \":\" + str(x[3])\n",
    "        # print(time)\n",
    "        collect[time] = int(x[0])\n",
    "    return collect"
   ]
  },
  {
   "cell_type": "code",
   "execution_count": 54,
   "metadata": {
    "collapsed": true
   },
   "outputs": [],
   "source": [
    "def delete(data_in):\n",
    "    minus = []\n",
    "    for x in data_in[0:len(data_in):10]:\n",
    "        minus.append(x)\n",
    "    # print(\"minus\", minus)\n",
    "    return minus"
   ]
  },
  {
   "cell_type": "code",
   "execution_count": 55,
   "metadata": {
    "collapsed": true
   },
   "outputs": [],
   "source": [
    "def open_file(path):\n",
    "    d_temp = []\n",
    "    with open(path) as csvDataFile:\n",
    "        csvReader = csv.reader(csvDataFile)\n",
    "        for row in csvReader:\n",
    "            d_temp.append(row)\n",
    "        # minus = delete(d_temp)\n",
    "        data = deal_with(d_temp)\n",
    "        # print(data)\n",
    "        return data"
   ]
  },
  {
   "cell_type": "code",
   "execution_count": 56,
   "metadata": {},
   "outputs": [
    {
     "name": "stdout",
     "output_type": "stream",
     "text": [
      "{'14:7:57': 20, '14:13:9': 19, '14:18:18': 18, '14:23:30': 18, '14:28:39': 17, '14:33:59': 17, '14:39:2': 16, '14:44:11': 16, '14:49:23': 16, '14:54:32': 15, '14:59:52': 15, '15:5:3': 16, '15:10:13': 14}\n",
      "{'14:11:18': 16, '14:16:27': 14, '14:21:39': 14, '14:26:48': 13, '14:32:3': 13, '14:37:10': 13, '14:42:20': 13, '14:47:32': 12, '14:52:41': 12, '14:57:52': 12, '15:3:4': 11, '15:8:13': 12, '15:13:25': 11}\n",
      "{'14:4:44': 21, '14:9:56': 21, '14:15:5': 20, '14:20:16': 19, '14:25:27': 18, '14:30:37': 19, '14:35:49': 18, '14:40:59': 18, '14:46:9': 17, '14:51:21': 17, '14:56:30': 17, '15:6:52': 20, '15:12:2': 16}\n"
     ]
    }
   ],
   "source": [
    "path1 = '/Users/heng/Desktop/3:26 AFTERNOON/38_data_out'\n",
    "first = open_file(path1)\n",
    "print(first)\n",
    "path2 = '/Users/heng/Desktop/3:26 AFTERNOON/47_data_out'\n",
    "second = open_file(path2)\n",
    "print(second)\n",
    "path3 = '/Users/heng/Desktop/3:26 AFTERNOON/48_data_out'\n",
    "third = open_file(path3)\n",
    "print(third)\n",
    "# print(len(list(first)))\n",
    "# print(len(list(second)))\n",
    "# print(len(list(third)))\n",
    "M = min(len(list(first)), len(list(second)), len(list(third)))"
   ]
  },
  {
   "cell_type": "code",
   "execution_count": 57,
   "metadata": {},
   "outputs": [
    {
     "name": "stdout",
     "output_type": "stream",
     "text": [
      "          38_d  47_d  48_d\n",
      "14:7:57     20    16    21\n",
      "14:13:9     19    14    21\n",
      "14:18:18    18    14    20\n",
      "14:23:30    18    13    19\n",
      "14:28:39    17    13    18\n",
      "14:33:59    17    13    19\n",
      "14:39:2     16    13    18\n",
      "14:44:11    16    12    18\n",
      "14:49:23    16    12    17\n",
      "14:54:32    15    12    17\n",
      "14:59:52    15    11    17\n",
      "15:5:3      16    12    20\n",
      "15:10:13    14    11    16\n"
     ]
    }
   ],
   "source": [
    "df = pd.DataFrame({\"38_d\": np.array(list(first.values())),\n",
    "                   \"47_d\": np.array(list(second.values())),\n",
    "                   \"48_d\": np.array(list(third.values()))}, index = np.array(list(first.keys())))\n",
    "print(df)"
   ]
  },
  {
   "cell_type": "code",
   "execution_count": 58,
   "metadata": {},
   "outputs": [
    {
     "data": {
      "image/png": "[encoded data removed]",
      "text/plain": [
       "<matplotlib.figure.Figure at 0x1168dcba8>"
      ]
     },
     "metadata": {},
     "output_type": "display_data"
    }
   ],
   "source": [
    "df = df.astype(float)\n",
    "df.plot()\n",
    "plt.grid(True)\n",
    "plt.show()"
   ]
  },
  {
   "cell_type": "code",
   "execution_count": 59,
   "metadata": {
    "collapsed": true
   },
   "outputs": [],
   "source": [
    "total_std = []\n",
    "average = []\n",
    "for x in range(0, 13):\n",
    "    row = np.array(df.iloc[x])\n",
    "    std = row.std()\n",
    "    avg = row.mean()\n",
    "    total_std.append(std)\n",
    "    average.append(avg)\n",
    "total_std = np.array(total_std)\n",
    "average = np.array(average)\n",
    "CV = total_std / average"
   ]
  },
  {
   "cell_type": "code",
   "execution_count": 60,
   "metadata": {},
   "outputs": [
    {
     "name": "stdout",
     "output_type": "stream",
     "text": [
      "                 CV\n",
      "19.000000  0.113697\n",
      "18.000000  0.163551\n",
      "17.333333  0.143910\n",
      "16.666667  0.157480\n",
      "16.000000  0.135015\n",
      "16.333333  0.152721\n",
      "15.666667  0.131158\n",
      "15.333333  0.162681\n",
      "15.000000  0.144016\n",
      "14.666667  0.140100\n",
      "14.333333  0.174031\n",
      "16.000000  0.204124\n",
      "13.666667  0.150352\n"
     ]
    }
   ],
   "source": [
    "df = pd.DataFrame({\"CV\": CV}, index = average)\n",
    "print(df)"
   ]
  },
  {
   "cell_type": "code",
   "execution_count": 68,
   "metadata": {},
   "outputs": [
    {
     "data": {
      "image/png": "[encoded data removed]",
      "text/plain": [
       "<matplotlib.figure.Figure at 0x10d9ac470>"
      ]
     },
     "metadata": {},
     "output_type": "display_data"
    }
   ],
   "source": [
    "plt.scatter(average, CV)\n",
    "plt.grid(True)\n",
    "plt.show()"
   ]
  },
  {
   "cell_type": "code",
   "execution_count": null,
   "metadata": {
    "collapsed": true
   },
   "outputs": [],
   "source": []
  }
 ],
 "metadata": {
  "kernelspec": {
   "display_name": "Python 3",
   "language": "python",
   "name": "python3"
  },
  "language_info": {
   "codemirror_mode": {
    "name": "ipython",
    "version": 3
   },
   "file_extension": ".py",
   "mimetype": "text/x-python",
   "name": "python",
   "nbconvert_exporter": "python",
   "pygments_lexer": "ipython3",
   "version": "3.6.3"
  }
 },
 "nbformat": 4,
 "nbformat_minor": 2
}
