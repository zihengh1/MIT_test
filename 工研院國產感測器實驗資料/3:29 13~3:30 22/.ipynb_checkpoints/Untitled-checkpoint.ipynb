{
 "cells": [
  {
   "cell_type": "code",
   "execution_count": 1,
   "metadata": {
    "collapsed": true
   },
   "outputs": [],
   "source": [
    "def unite(dict_in):\n",
    "    correct_dict = {}\n",
    "    temp = copy.copy(time)\n",
    "    for x in temp[:]:\n",
    "        standard_hour = x[1]\n",
    "        standard_minute = x[2]\n",
    "        standard_day = x[0]\n",
    "        time_key = str(standard_day) + \":\" + str(standard_hour) + \":\" + str(standard_minute)\n",
    "        print(\"time_key\", time_key)\n",
    "        for key in dict_in.copy().keys():\n",
    "            key2 = key.split(\":\")\n",
    "            print(key2)\n",
    "            if int(key2[0]) == standard_day:\n",
    "                if int(key2[1]) == standard_hour:\n",
    "                    if int(key2[2]) <= standard_minute:\n",
    "                        print(\"put in\")\n",
    "                        correct_dict[time_key] = dict_in[key]\n",
    "                        del dict_in[key]\n",
    "                elif int(key2[1]) < standard_hour:\n",
    "                    print(\"put in\")\n",
    "                    correct_dict[time_key] = dict_in[key]\n",
    "                    del dict_in[key]\n",
    "                else:\n",
    "                    print(\"no in\")\n",
    "            elif int(key2[0]) < standard_day:\n",
    "                print(\"put in\")\n",
    "                correct_dict[time_key] = dict_in[key]\n",
    "                del dict_in[key]\n",
    "            else:\n",
    "                print(\"no in\")\n",
    "            '''    \n",
    "            if int(key2[0]) == standard_hour:\n",
    "                if int(key2[1]) <= standard_minute:\n",
    "                    # print(\"in\", time_key, dict_in[key])\n",
    "                    correct_dict[time_key] = dict_in[key]\n",
    "                    del dict_in[key]\n",
    "            elif int(key2[0]) < standard_hour:\n",
    "                # print(\"in\", time_key, dict_in[key])\n",
    "                correct_dict[time_key] = dict_in[key]\n",
    "                del dict_in[key]\n",
    "            '''\n",
    "    print(correct_dict)\n",
    "    return correct_dict"
   ]
  },
  {
   "cell_type": "code",
   "execution_count": null,
   "metadata": {
    "collapsed": true
   },
   "outputs": [],
   "source": [
    "while True:\n",
    "        if pointer_time != length_dict:\n",
    "            for p in range(pointer_time, length_time):\n",
    "                print(\"p:\", p)\n",
    "                print(temp[p])\n",
    "                for key in dict_in.copy().keys():\n",
    "                    key2 = key.split(\":\")\n",
    "                    print(\"key2\", key2)\n",
    "                    if int(key2[0]) <= temp[p][0]:\n",
    "                        # print(\"same day\")\n",
    "                        if int(key2[1]) == temp[p][1]:\n",
    "                            print(\"same hour\")\n",
    "                            if int(key2[2]) <= temp[p][2]:\n",
    "                                print(\"same minute\")\n",
    "                                print(\"got in\")\n",
    "                                pointer_time = p\n",
    "                                correct_dict[key] = dict_in[key]\n",
    "                                del dict_in[key]\n",
    "                            elif int(key2[2]) > temp[p][2]:\n",
    "                                print(\"not in\")\n",
    "                                pointer_time = p\n",
    "                                break\n",
    "                        elif int(key2[1]) < temp[p][1]:\n",
    "                            print(\"got in\")\n",
    "                            pointer_time = p\n",
    "                            correct_dict[key] = dict_in[key]\n",
    "                            del dict_in[key]\n",
    "                        elif int(key2[1]) > temp[p][1]:\n",
    "                            print(\"not in\")\n",
    "                            pointer_time = p\n",
    "                            break\n",
    "                    elif int(key2[0]) > temp[p][0]:\n",
    "                        print(\"not in\")\n",
    "                        pointer_time = p\n",
    "                        break\n",
    "        else:\n",
    "            break\n"
   ]
  }
 ],
 "metadata": {
  "kernelspec": {
   "display_name": "Python 3",
   "language": "python",
   "name": "python3"
  },
  "language_info": {
   "codemirror_mode": {
    "name": "ipython",
    "version": 3
   },
   "file_extension": ".py",
   "mimetype": "text/x-python",
   "name": "python",
   "nbconvert_exporter": "python",
   "pygments_lexer": "ipython3",
   "version": "3.6.3"
  }
 },
 "nbformat": 4,
 "nbformat_minor": 2
}
