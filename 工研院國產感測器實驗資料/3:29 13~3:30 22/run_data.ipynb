{
 "cells": [
  {
   "cell_type": "code",
   "execution_count": 1,
   "metadata": {
    "collapsed": true
   },
   "outputs": [],
   "source": [
    "import numpy as np\n",
    "import pandas as pd\n",
    "import csv\n",
    "import copy\n",
    "import os\n",
    "import matplotlib.pyplot as plt\n",
    "import itertools"
   ]
  },
  {
   "cell_type": "code",
   "execution_count": 2,
   "metadata": {
    "collapsed": true
   },
   "outputs": [],
   "source": [
    "def open_file(p_1, p_2, p_3, p_4, p_5):\n",
    "    init_data = []\n",
    "    total = {}\n",
    "    path = [p_1, p_2, p_3, p_4, p_5]\n",
    "    # print(path)\n",
    "    for p in path:\n",
    "        with open(p) as csvDataFile:\n",
    "            csvReader = csv.reader(csvDataFile)\n",
    "            target = ['0', '0', '0', '0', '0', '0']\n",
    "            for row in csvReader:\n",
    "                if (target[1] + target[2]) != (row[1] + row[2]):\n",
    "                    r_int = int(row[1] + row[2])\n",
    "                    t_int = int(target[1] + target[2])\n",
    "                    if (r_int - t_int) != 1:\n",
    "                        target = row\n",
    "                        init_data.append(row)\n",
    "            total[p] = init_data\n",
    "            init_data = []\n",
    "    return total"
   ]
  },
  {
   "cell_type": "code",
   "execution_count": 3,
   "metadata": {
    "collapsed": true
   },
   "outputs": [],
   "source": [
    "def deal_with(data_in):\n",
    "    collect = {}\n",
    "    for x in data_in:\n",
    "        h = int(x[1])\n",
    "        d = int(x[4])\n",
    "        m = int(x[2])\n",
    "        if h >= 0 and h <= 15:\n",
    "            h = h + 8\n",
    "        elif h >= 16 and h <= 23:\n",
    "            h = h + 8 - 24\n",
    "            d = d + 1\n",
    "        time = str(d) + \":\" + str(h) + \":\" + str(m)\n",
    "        # print(time)\n",
    "        collect[time] = int(x[0])\n",
    "    # print(collect)\n",
    "    return collect"
   ]
  },
  {
   "cell_type": "code",
   "execution_count": 4,
   "metadata": {
    "collapsed": true
   },
   "outputs": [],
   "source": [
    "def create_time_list():\n",
    "    time = []\n",
    "    d = [29, 30]\n",
    "    h = []\n",
    "    for x in range(0, 24):\n",
    "        h.append(x)\n",
    "    m = []\n",
    "    for x in range(0, 60, 5):\n",
    "        m.append(x)\n",
    "    # print(h)\n",
    "    # print(m)\n",
    "    a = []\n",
    "    for k in d:\n",
    "        for x in h:\n",
    "            for y in m:\n",
    "                a.append(k)\n",
    "                a.append(x)\n",
    "                a.append(y)\n",
    "                time.append(a)\n",
    "                a = []\n",
    "    # print(time)\n",
    "    return time"
   ]
  },
  {
   "cell_type": "code",
   "execution_count": 5,
   "metadata": {
    "collapsed": true
   },
   "outputs": [],
   "source": [
    "def unite(dict_in):\n",
    "    correct_dict = {}\n",
    "    temp = copy.copy(time)\n",
    "    # print(temp)\n",
    "    length_dict = len(dict_in)\n",
    "    # print(length_dict, length_time)\n",
    "    pointer_time = 0\n",
    "    for pointer_time in range(pointer_time, len(temp)):\n",
    "        standard = [temp[pointer_time][0], temp[pointer_time][1], temp[pointer_time][2]]\n",
    "        time_in = str(temp[pointer_time][0]) + \":\" + str(temp[pointer_time][1]) + \":\" + str(temp[pointer_time][2])\n",
    "        for key in dict_in.copy().keys():\n",
    "            key2 = key.split(\":\")\n",
    "            k = [int(key2[0]), int(key2[1]), int(key2[2])]\n",
    "            # print()\n",
    "            # print(\"k\", k)\n",
    "            # print(\"standard\", standard)\n",
    "            if k[0] == standard[0]:\n",
    "                if k[1] == standard[1]:\n",
    "                    if k[2] <= standard[2]:\n",
    "                        # print(\"get in\")\n",
    "                        correct_dict[time_in] = dict_in[key]\n",
    "                        # print(correct_dict)\n",
    "                        del dict_in[key]\n",
    "                    else:\n",
    "                        break\n",
    "                elif k[1] < standard[1]:\n",
    "                    # print(\"get in\")\n",
    "                    correct_dict[time_in] = dict_in[key]\n",
    "                    # print(correct_dict)\n",
    "                    del dict_in[key]\n",
    "                else:\n",
    "                    break\n",
    "            elif k[0] < standard[0]:\n",
    "                # print(\"get in\")\n",
    "                correct_dict[time_in] = dict_in[key]\n",
    "                # print(correct_dict)\n",
    "                del dict_in[key]\n",
    "            else:\n",
    "                break\n",
    "        pointer_time = pointer_time + 1\n",
    "    # print(correct_dict)\n",
    "    return correct_dict"
   ]
  },
  {
   "cell_type": "code",
   "execution_count": 6,
   "metadata": {
    "collapsed": true
   },
   "outputs": [],
   "source": [
    "def find_end(time_end):\n",
    "    time = {}\n",
    "    num = 1\n",
    "    for x in time_end:\n",
    "        x = x.split(\":\")\n",
    "        day = int(x[0])\n",
    "        hour = int(x[1])\n",
    "        minute = int(x[2])\n",
    "        time[num] = [day, hour, minute]\n",
    "        num  = num + 1\n",
    "    m_s = 60\n",
    "    for x in time.items():\n",
    "        if m_s > x[1][2]:\n",
    "            m_s = x[1][2]\n",
    "    return str(time[1][0]) + \":\" + str(time[1][1]) + \":\" + str(m_s)"
   ]
  },
  {
   "cell_type": "code",
   "execution_count": 7,
   "metadata": {
    "collapsed": true
   },
   "outputs": [],
   "source": [
    "def find_start(time_start):\n",
    "    time = {}\n",
    "    num = 1\n",
    "    for x in time_start:\n",
    "        x = x.split(\":\")\n",
    "        day = int(x[0])\n",
    "        hour = int(x[1])\n",
    "        minute = int(x[2])\n",
    "        # print(dat, hour, minute)\n",
    "        time[num] = [day, hour, minute]\n",
    "        num  = num + 1\n",
    "    m_s = 0\n",
    "    for x in time.items():\n",
    "        if m_s < x[1][2]:\n",
    "            m_s = x[1][2]\n",
    "    return str(time[1][0]) + \":\" + str(time[1][1]) + \":\" + str(m_s)"
   ]
  },
  {
   "cell_type": "code",
   "execution_count": 8,
   "metadata": {
    "collapsed": true
   },
   "outputs": [],
   "source": [
    "def low_high_bound(i_38, i_42, i_43, i_47, i_99):\n",
    "    first = [i_38[0], i_42[0], i_43[0], i_47[0], i_99[0]]\n",
    "    last = [i_38[-1], i_42[-1], i_43[-1], i_47[-1], i_99[-1]]\n",
    "    # print(first)\n",
    "    # print(last)\n",
    "    start = find_start(first)\n",
    "    end = find_end(last)\n",
    "    return (start, end)"
   ]
  },
  {
   "cell_type": "code",
   "execution_count": 9,
   "metadata": {
    "collapsed": true
   },
   "outputs": [],
   "source": [
    "def check(start, end, id_dict):\n",
    "    ans = {}\n",
    "    pos = 0\n",
    "    list_in = copy.copy(list(id_dict))\n",
    "    for i in list_in[:]:\n",
    "        pos = pos + 1\n",
    "        if i == start:\n",
    "            delete_pos = pos-1\n",
    "            for i in range(0, delete_pos):\n",
    "                del id_dict[list_in[i]]\n",
    "        if i == end:\n",
    "            delete_pos = pos+1\n",
    "            for i in range(delete_pos-1, len(list_in)):\n",
    "                del id_dict[list_in[i]]\n",
    "    # print(id_dict)\n",
    "    return id_dict"
   ]
  },
  {
   "cell_type": "code",
   "execution_count": 10,
   "metadata": {
    "collapsed": true
   },
   "outputs": [],
   "source": [
    "def reshape(data, title):\n",
    "    df = pd.DataFrame({title:np.array(list(data.values()))}, index = np.array(list(data.keys())))\n",
    "    df.index = pd.to_datetime(df.index, format = '%d:%H:%M')\n",
    "    df = df.resample('5min').mean()\n",
    "    # print(df)\n",
    "    return df"
   ]
  },
  {
   "cell_type": "code",
   "execution_count": 11,
   "metadata": {
    "collapsed": true
   },
   "outputs": [],
   "source": [
    "def scatterplot_matrix(data, names, **kwargs):\n",
    "    \"\"\"Plots a scatterplot matrix of subplots.  Each row of \"data\" is plotted\n",
    "    against other rows, resulting in a nrows by nrows grid of subplots with the\n",
    "    diagonal subplots labeled with \"names\".  Additional keyword arguments are\n",
    "    passed on to matplotlib's \"plot\" command. Returns the matplotlib figure\n",
    "    object containg the subplot grid.\"\"\"\n",
    "    numvars, numdata = data.shape\n",
    "    fig, axes = plt.subplots(nrows=numvars, ncols=numvars, figsize=(12,12))\n",
    "    fig.subplots_adjust(hspace=0.0001, wspace=0.0001)\n",
    "\n",
    "    for ax in axes.flat:\n",
    "        # Hide all ticks and labels\n",
    "        ax.xaxis.set_visible(False)\n",
    "        ax.yaxis.set_visible(False)\n",
    "\n",
    "        # Set up ticks only on one side for the \"edge\" subplots...\n",
    "        if ax.is_first_col():\n",
    "            ax.yaxis.set_ticks_position('left')\n",
    "        if ax.is_last_col():\n",
    "            ax.yaxis.set_ticks_position('right')\n",
    "        if ax.is_first_row():\n",
    "            ax.xaxis.set_ticks_position('top')\n",
    "        if ax.is_last_row():\n",
    "            ax.xaxis.set_ticks_position('bottom')\n",
    "\n",
    "    # Plot the data.\n",
    "    for i, j in zip(*np.triu_indices_from(axes, k=1)):\n",
    "        for x, y in [(i,j), (j,i)]:\n",
    "            axes[x,y].plot(data[x], data[y], **kwargs)\n",
    "\n",
    "    # Label the diagonal subplots...\n",
    "    for i, label in enumerate(names):\n",
    "        axes[i,i].annotate(label, (0.1, 0.1), xycoords='axes fraction',\n",
    "                ha='center', va='center')\n",
    "\n",
    "    # Turn on the proper x or y axes ticks.\n",
    "    for i, j in zip(range(numvars), itertools.cycle((-1, 0))):\n",
    "        axes[j,i].xaxis.set_visible(True)\n",
    "        axes[i,j].yaxis.set_visible(True)\n",
    "\n",
    "    return fig\n"
   ]
  },
  {
   "cell_type": "code",
   "execution_count": 13,
   "metadata": {},
   "outputs": [],
   "source": [
    "path1 = '/Users/heng/Intern/3:29 13~3:30 22/38_data_out'\n",
    "path2 = '/Users/heng/Intern/3:29 13~3:30 22/42_data_out'\n",
    "path3 = '/Users/heng/Intern/3:29 13~3:30 22/43_data_out'\n",
    "path4 = '/Users/heng/Intern/3:29 13~3:30 22/47_data_out'\n",
    "path5 = '/Users/heng/Intern/3:29 13~3:30 22/99_data_out'\n",
    "total_data = open_file(path1, path2, path3, path4, path5)\n",
    "# print(total_data)"
   ]
  },
  {
   "cell_type": "code",
   "execution_count": 14,
   "metadata": {
    "collapsed": true
   },
   "outputs": [],
   "source": [
    "id_38 = deal_with(total_data[path1])\n",
    "id_42 = deal_with(total_data[path2])\n",
    "id_43 = deal_with(total_data[path3])\n",
    "id_47 = deal_with(total_data[path4])\n",
    "id_99 = deal_with(total_data[path5])"
   ]
  },
  {
   "cell_type": "code",
   "execution_count": 15,
   "metadata": {
    "collapsed": true
   },
   "outputs": [],
   "source": [
    "time = create_time_list()"
   ]
  },
  {
   "cell_type": "code",
   "execution_count": 16,
   "metadata": {
    "collapsed": true
   },
   "outputs": [],
   "source": [
    "id_38_done = unite(id_38)\n",
    "id_42_done = unite(id_42)\n",
    "id_43_done = unite(id_43)\n",
    "id_47_done = unite(id_47)\n",
    "id_99_done = unite(id_99)"
   ]
  },
  {
   "cell_type": "code",
   "execution_count": 17,
   "metadata": {
    "collapsed": true
   },
   "outputs": [],
   "source": [
    "(s, e) = low_high_bound(list(id_38_done), list(id_42_done), list(id_43_done), list(id_47_done), list(id_99_done))\n",
    "# print(s, e)"
   ]
  },
  {
   "cell_type": "code",
   "execution_count": 18,
   "metadata": {
    "collapsed": true
   },
   "outputs": [],
   "source": [
    "id_38_done = check(s, e, id_38_done)\n",
    "id_42_done = check(s, e, id_42_done)\n",
    "id_43_done = check(s, e, id_43_done)\n",
    "id_47_done = check(s, e, id_47_done)\n",
    "id_99_done = check(s, e, id_99_done)"
   ]
  },
  {
   "cell_type": "code",
   "execution_count": 19,
   "metadata": {
    "collapsed": true
   },
   "outputs": [],
   "source": [
    "df1 = reshape(id_38_done, \"38_d\")\n",
    "df2 = reshape(id_42_done, \"42_d\")\n",
    "df3 = reshape(id_43_done, \"43_d\")\n",
    "df4 = reshape(id_47_done, \"47_d\")\n",
    "df5 = reshape(id_99_done, \"99_d\")"
   ]
  },
  {
   "cell_type": "code",
   "execution_count": 20,
   "metadata": {},
   "outputs": [],
   "source": [
    "df = pd.concat([df1, df2, df3, df4, df5], axis = 1) "
   ]
  },
  {
   "cell_type": "code",
   "execution_count": 27,
   "metadata": {},
   "outputs": [
    {
     "data": {
      "image/png": "[encoded data removed]",
      "text/plain": [
       "<matplotlib.figure.Figure at 0x113c02f28>"
      ]
     },
     "metadata": {},
     "output_type": "display_data"
    }
   ],
   "source": [
    "SUM_data = []\n",
    "SUM_data.append(list(df[\"38_d\"]))\n",
    "SUM_data.append(list(df[\"42_d\"]))\n",
    "SUM_data.append(list(df[\"43_d\"]))\n",
    "SUM_data.append(list(df[\"47_d\"]))\n",
    "SUM_data.append(list(df[\"99_d\"]))\n",
    "SUM_data = np.array(SUM_data) \n",
    "fig = scatterplot_matrix(SUM_data, ['38_d', '42_d', '43_d', '47_d', '99_d'], linestyle='none', marker='x', color='green', mfc='none')\n",
    "fig.suptitle('Simple Scatterplot Matrix')\n",
    "plt.savefig('scatter_plot_matrix')\n",
    "plt.show()"
   ]
  },
  {
   "cell_type": "code",
   "execution_count": 22,
   "metadata": {},
   "outputs": [
    {
     "data": {
      "image/png": "[encoded data removed]",
      "text/plain": [
       "<matplotlib.figure.Figure at 0x10f54c860>"
      ]
     },
     "metadata": {},
     "output_type": "display_data"
    }
   ],
   "source": [
    "df = df.astype(float)\n",
    "df.plot()\n",
    "plt.title('3/29 13:30 ~ 3/30 21:35')\n",
    "plt.grid(True)\n",
    "plt.xlabel(\"time\") \n",
    "plt.ylabel(\"pm2.5\")\n",
    "plt.savefig('all_id')\n",
    "plt.show()"
   ]
  },
  {
   "cell_type": "code",
   "execution_count": 23,
   "metadata": {
    "collapsed": true
   },
   "outputs": [],
   "source": [
    "# df"
   ]
  },
  {
   "cell_type": "code",
   "execution_count": 24,
   "metadata": {
    "collapsed": true
   },
   "outputs": [],
   "source": [
    "total_std = []\n",
    "average = []\n",
    "for x in range(0, 386):\n",
    "    row = np.array(df.iloc[x])\n",
    "    # print(\"row\", row)\n",
    "    std = row.std()\n",
    "    avg = row.mean()\n",
    "    total_std.append(std)\n",
    "    average.append(avg)\n",
    "total_std = np.array(total_std)\n",
    "average = np.array(average)\n",
    "t = pd.Series(total_std)\n",
    "a = pd.Series(average)\n",
    "CV = total_std / average"
   ]
  },
  {
   "cell_type": "code",
   "execution_count": 25,
   "metadata": {},
   "outputs": [
    {
     "data": {
      "text/html": [
       "<div>\n",
       "<style>\n",
       "    .dataframe thead tr:only-child th {\n",
       "        text-align: right;\n",
       "    }\n",
       "\n",
       "    .dataframe thead th {\n",
       "        text-align: left;\n",
       "    }\n",
       "\n",
       "    .dataframe tbody tr th {\n",
       "        vertical-align: top;\n",
       "    }\n",
       "</style>\n",
       "<table border=\"1\" class=\"dataframe\">\n",
       "  <thead>\n",
       "    <tr style=\"text-align: right;\">\n",
       "      <th></th>\n",
       "      <th>38_d</th>\n",
       "      <th>42_d</th>\n",
       "      <th>43_d</th>\n",
       "      <th>47_d</th>\n",
       "      <th>99_d</th>\n",
       "    </tr>\n",
       "  </thead>\n",
       "  <tbody>\n",
       "    <tr>\n",
       "      <th>count</th>\n",
       "      <td>377.000000</td>\n",
       "      <td>373.000000</td>\n",
       "      <td>379.000000</td>\n",
       "      <td>378.000000</td>\n",
       "      <td>376.000000</td>\n",
       "    </tr>\n",
       "    <tr>\n",
       "      <th>mean</th>\n",
       "      <td>4.302387</td>\n",
       "      <td>1.697051</td>\n",
       "      <td>24.432718</td>\n",
       "      <td>1.777778</td>\n",
       "      <td>4.816489</td>\n",
       "    </tr>\n",
       "    <tr>\n",
       "      <th>std</th>\n",
       "      <td>0.764101</td>\n",
       "      <td>0.741922</td>\n",
       "      <td>1.686418</td>\n",
       "      <td>0.492203</td>\n",
       "      <td>0.885946</td>\n",
       "    </tr>\n",
       "    <tr>\n",
       "      <th>min</th>\n",
       "      <td>3.000000</td>\n",
       "      <td>0.000000</td>\n",
       "      <td>20.000000</td>\n",
       "      <td>1.000000</td>\n",
       "      <td>3.000000</td>\n",
       "    </tr>\n",
       "    <tr>\n",
       "      <th>25%</th>\n",
       "      <td>4.000000</td>\n",
       "      <td>1.000000</td>\n",
       "      <td>23.000000</td>\n",
       "      <td>1.000000</td>\n",
       "      <td>4.000000</td>\n",
       "    </tr>\n",
       "    <tr>\n",
       "      <th>50%</th>\n",
       "      <td>4.000000</td>\n",
       "      <td>2.000000</td>\n",
       "      <td>24.000000</td>\n",
       "      <td>2.000000</td>\n",
       "      <td>5.000000</td>\n",
       "    </tr>\n",
       "    <tr>\n",
       "      <th>75%</th>\n",
       "      <td>5.000000</td>\n",
       "      <td>2.000000</td>\n",
       "      <td>26.000000</td>\n",
       "      <td>2.000000</td>\n",
       "      <td>5.000000</td>\n",
       "    </tr>\n",
       "    <tr>\n",
       "      <th>max</th>\n",
       "      <td>7.000000</td>\n",
       "      <td>4.000000</td>\n",
       "      <td>29.000000</td>\n",
       "      <td>3.000000</td>\n",
       "      <td>9.000000</td>\n",
       "    </tr>\n",
       "  </tbody>\n",
       "</table>\n",
       "</div>"
      ],
      "text/plain": [
       "             38_d        42_d        43_d        47_d        99_d\n",
       "count  377.000000  373.000000  379.000000  378.000000  376.000000\n",
       "mean     4.302387    1.697051   24.432718    1.777778    4.816489\n",
       "std      0.764101    0.741922    1.686418    0.492203    0.885946\n",
       "min      3.000000    0.000000   20.000000    1.000000    3.000000\n",
       "25%      4.000000    1.000000   23.000000    1.000000    4.000000\n",
       "50%      4.000000    2.000000   24.000000    2.000000    5.000000\n",
       "75%      5.000000    2.000000   26.000000    2.000000    5.000000\n",
       "max      7.000000    4.000000   29.000000    3.000000    9.000000"
      ]
     },
     "execution_count": 25,
     "metadata": {},
     "output_type": "execute_result"
    }
   ],
   "source": [
    "df.describe()"
   ]
  },
  {
   "cell_type": "code",
   "execution_count": 26,
   "metadata": {},
   "outputs": [
    {
     "data": {
      "image/png": "[encoded data removed]",
      "text/plain": [
       "<matplotlib.figure.Figure at 0x10f73bc18>"
      ]
     },
     "metadata": {},
     "output_type": "display_data"
    }
   ],
   "source": [
    "df_CV = pd.DataFrame({\"CV\": CV}, index = average)\n",
    "plt.scatter(average, CV, marker = \"o\", s = 40)\n",
    "plt.grid(True)\n",
    "plt.title(\"CV and pm2.5\")\n",
    "plt.xlabel(\"pm2.5\") \n",
    "plt.ylabel(\"CV\")\n",
    "plt.savefig('all_CV')\n",
    "plt.show()"
   ]
  },
  {
   "cell_type": "code",
   "execution_count": null,
   "metadata": {
    "collapsed": true
   },
   "outputs": [],
   "source": []
  },
  {
   "cell_type": "code",
   "execution_count": null,
   "metadata": {
    "collapsed": true
   },
   "outputs": [],
   "source": []
  },
  {
   "cell_type": "code",
   "execution_count": null,
   "metadata": {
    "collapsed": true
   },
   "outputs": [],
   "source": []
  },
  {
   "cell_type": "code",
   "execution_count": null,
   "metadata": {
    "collapsed": true
   },
   "outputs": [],
   "source": []
  }
 ],
 "metadata": {
  "kernelspec": {
   "display_name": "Python 3",
   "language": "python",
   "name": "python3"
  },
  "language_info": {
   "codemirror_mode": {
    "name": "ipython",
    "version": 3
   },
   "file_extension": ".py",
   "mimetype": "text/x-python",
   "name": "python",
   "nbconvert_exporter": "python",
   "pygments_lexer": "ipython3",
   "version": "3.6.3"
  }
 },
 "nbformat": 4,
 "nbformat_minor": 2
}
